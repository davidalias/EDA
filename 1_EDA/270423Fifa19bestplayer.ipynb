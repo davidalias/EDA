{
 "cells": [
  {
   "cell_type": "code",
   "execution_count": 1,
   "id": "2c77490a",
   "metadata": {},
   "outputs": [],
   "source": [
    "import pandas as pd\n",
    "import numpy as np\n",
    "import matplotlib.pyplot as plt\n",
    "import seaborn as sns"
   ]
  },
  {
   "cell_type": "code",
   "execution_count": 3,
   "id": "4d0198bc",
   "metadata": {},
   "outputs": [],
   "source": [
    "df = pd.read_csv(\"FIFATheBest.csv\")"
   ]
  },
  {
   "cell_type": "code",
   "execution_count": 5,
   "id": "88f3412c",
   "metadata": {},
   "outputs": [
    {
     "data": {
      "text/plain": [
       "Role       object\n",
       "Country    object\n",
       "Name       object\n",
       "First      object\n",
       "Second     object\n",
       "Third      object\n",
       "dtype: object"
      ]
     },
     "execution_count": 5,
     "metadata": {},
     "output_type": "execute_result"
    }
   ],
   "source": [
    "df.dtypes"
   ]
  },
  {
   "cell_type": "code",
   "execution_count": 6,
   "id": "efe3a598",
   "metadata": {},
   "outputs": [
    {
     "data": {
      "text/plain": [
       "(502, 6)"
      ]
     },
     "execution_count": 6,
     "metadata": {},
     "output_type": "execute_result"
    }
   ],
   "source": [
    "df.shape"
   ]
  },
  {
   "cell_type": "code",
   "execution_count": 7,
   "id": "a8d98dc7",
   "metadata": {},
   "outputs": [
    {
     "data": {
      "text/plain": [
       "Index(['Role', 'Country', 'Name', 'First', 'Second', 'Third'], dtype='object')"
      ]
     },
     "execution_count": 7,
     "metadata": {},
     "output_type": "execute_result"
    }
   ],
   "source": [
    "df.columns"
   ]
  },
  {
   "cell_type": "code",
   "execution_count": 8,
   "id": "32165853",
   "metadata": {},
   "outputs": [
    {
     "data": {
      "text/html": [
       "<div>\n",
       "<style scoped>\n",
       "    .dataframe tbody tr th:only-of-type {\n",
       "        vertical-align: middle;\n",
       "    }\n",
       "\n",
       "    .dataframe tbody tr th {\n",
       "        vertical-align: top;\n",
       "    }\n",
       "\n",
       "    .dataframe thead th {\n",
       "        text-align: right;\n",
       "    }\n",
       "</style>\n",
       "<table border=\"1\" class=\"dataframe\">\n",
       "  <thead>\n",
       "    <tr style=\"text-align: right;\">\n",
       "      <th></th>\n",
       "      <th>Role</th>\n",
       "      <th>Country</th>\n",
       "      <th>Name</th>\n",
       "      <th>First</th>\n",
       "      <th>Second</th>\n",
       "      <th>Third</th>\n",
       "    </tr>\n",
       "  </thead>\n",
       "  <tbody>\n",
       "    <tr>\n",
       "      <th>0</th>\n",
       "      <td>Captain</td>\n",
       "      <td>Afghanistan</td>\n",
       "      <td>Fareed Sadat</td>\n",
       "      <td>Cristiano Ronaldo</td>\n",
       "      <td>Hazard Eden</td>\n",
       "      <td>Messi Lionel</td>\n",
       "    </tr>\n",
       "    <tr>\n",
       "      <th>1</th>\n",
       "      <td>Captain</td>\n",
       "      <td>Albania</td>\n",
       "      <td>Mavraj Mergim</td>\n",
       "      <td>Cristiano Ronaldo</td>\n",
       "      <td>Mané Sadio</td>\n",
       "      <td>Salah Mohamed</td>\n",
       "    </tr>\n",
       "    <tr>\n",
       "      <th>2</th>\n",
       "      <td>Captain</td>\n",
       "      <td>Algeria</td>\n",
       "      <td>Mahrez Riyad Karim</td>\n",
       "      <td>Messi Lionel</td>\n",
       "      <td>Mané Sadio</td>\n",
       "      <td>Salah Mohamed</td>\n",
       "    </tr>\n",
       "    <tr>\n",
       "      <th>3</th>\n",
       "      <td>Captain</td>\n",
       "      <td>American Samoa</td>\n",
       "      <td>Salapu Nicky</td>\n",
       "      <td>Cristiano Ronaldo</td>\n",
       "      <td>Salah Mohamed</td>\n",
       "      <td>Mané Sadio</td>\n",
       "    </tr>\n",
       "    <tr>\n",
       "      <th>4</th>\n",
       "      <td>Captain</td>\n",
       "      <td>Andorra</td>\n",
       "      <td>Lima Sola Ildefons</td>\n",
       "      <td>Mbappé Kylian</td>\n",
       "      <td>Van Dijk Virgil</td>\n",
       "      <td>Salah Mohamed</td>\n",
       "    </tr>\n",
       "  </tbody>\n",
       "</table>\n",
       "</div>"
      ],
      "text/plain": [
       "      Role         Country                Name              First  \\\n",
       "0  Captain     Afghanistan        Fareed Sadat  Cristiano Ronaldo   \n",
       "1  Captain         Albania       Mavraj Mergim  Cristiano Ronaldo   \n",
       "2  Captain         Algeria  Mahrez Riyad Karim       Messi Lionel   \n",
       "3  Captain  American Samoa        Salapu Nicky  Cristiano Ronaldo   \n",
       "4  Captain         Andorra  Lima Sola Ildefons      Mbappé Kylian   \n",
       "\n",
       "            Second          Third  \n",
       "0      Hazard Eden   Messi Lionel  \n",
       "1       Mané Sadio  Salah Mohamed  \n",
       "2       Mané Sadio  Salah Mohamed  \n",
       "3    Salah Mohamed     Mané Sadio  \n",
       "4  Van Dijk Virgil  Salah Mohamed  "
      ]
     },
     "execution_count": 8,
     "metadata": {},
     "output_type": "execute_result"
    }
   ],
   "source": [
    "df.head()"
   ]
  },
  {
   "cell_type": "code",
   "execution_count": 10,
   "id": "0ebf44f6",
   "metadata": {},
   "outputs": [
    {
     "data": {
      "text/plain": [
       "10"
      ]
     },
     "execution_count": 10,
     "metadata": {},
     "output_type": "execute_result"
    }
   ],
   "source": [
    "df['First'].nunique()"
   ]
  },
  {
   "cell_type": "code",
   "execution_count": 11,
   "id": "60828f26",
   "metadata": {},
   "outputs": [
    {
     "data": {
      "text/plain": [
       "array(['Cristiano Ronaldo', 'Messi Lionel', 'Mbappé Kylian', 'Mané Sadio',\n",
       "       'De Jong Frenkie', 'Hazard Eden', 'Van Dijk Virgil',\n",
       "       'Salah Mohamed', 'De Ligt Matthijs', 'Kane Harry'], dtype=object)"
      ]
     },
     "execution_count": 11,
     "metadata": {},
     "output_type": "execute_result"
    }
   ],
   "source": [
    "df.First.unique()"
   ]
  },
  {
   "cell_type": "markdown",
   "id": "2be0e96d",
   "metadata": {},
   "source": [
    "1) Each player how many times in each rank (1,2,3)\n",
    "2) Country wise voting"
   ]
  },
  {
   "cell_type": "code",
   "execution_count": 12,
   "id": "7c033eb2",
   "metadata": {},
   "outputs": [
    {
     "data": {
      "text/plain": [
       "201"
      ]
     },
     "execution_count": 12,
     "metadata": {},
     "output_type": "execute_result"
    }
   ],
   "source": [
    "df.Country.nunique()"
   ]
  },
  {
   "cell_type": "code",
   "execution_count": 17,
   "id": "bc1f122f",
   "metadata": {},
   "outputs": [
    {
     "data": {
      "text/plain": [
       "Van Dijk Virgil      153\n",
       "Messi Lionel         135\n",
       "Cristiano Ronaldo    108\n",
       "Salah Mohamed         34\n",
       "Mané Sadio            31\n",
       "Mbappé Kylian         15\n",
       "Hazard Eden            9\n",
       "De Jong Frenkie        8\n",
       "Kane Harry             6\n",
       "De Ligt Matthijs       3\n",
       "Name: First, dtype: int64"
      ]
     },
     "execution_count": 17,
     "metadata": {},
     "output_type": "execute_result"
    }
   ],
   "source": [
    "first_rank_counts = df.First.value_counts()\n",
    "first_rank_counts"
   ]
  },
  {
   "cell_type": "code",
   "execution_count": 13,
   "id": "64f06bbf",
   "metadata": {},
   "outputs": [
    {
     "data": {
      "image/png": "[encoded data removed]",
      "text/plain": [
       "<Figure size 864x504 with 1 Axes>"
      ]
     },
     "metadata": {
      "needs_background": "light"
     },
     "output_type": "display_data"
    }
   ],
   "source": [
    "plt.figure(figsize=(12,7))\n",
    "df.First.value_counts().plot.barh()\n",
    "plt.title('First Rank Count')\n",
    "plt.show()"
   ]
  },
  {
   "cell_type": "code",
   "execution_count": 18,
   "id": "98d11afb",
   "metadata": {},
   "outputs": [
    {
     "data": {
      "text/plain": [
       "Messi Lionel         126\n",
       "Cristiano Ronaldo     92\n",
       "Van Dijk Virgil       86\n",
       "Mané Sadio            44\n",
       "Salah Mohamed         39\n",
       "Mbappé Kylian         39\n",
       "Hazard Eden           32\n",
       "De Jong Frenkie       21\n",
       "De Ligt Matthijs      17\n",
       "Kane Harry             6\n",
       "Name: Second, dtype: int64"
      ]
     },
     "execution_count": 18,
     "metadata": {},
     "output_type": "execute_result"
    }
   ],
   "source": [
    "second_rank_counts = df.Second.value_counts()\n",
    "second_rank_counts"
   ]
  },
  {
   "cell_type": "code",
   "execution_count": 19,
   "id": "42dd2c52",
   "metadata": {},
   "outputs": [
    {
     "data": {
      "text/plain": [
       "Cristiano Ronaldo    85\n",
       "Salah Mohamed        73\n",
       "Mané Sadio           68\n",
       "Messi Lionel         67\n",
       "Van Dijk Virgil      65\n",
       "Mbappé Kylian        46\n",
       "Hazard Eden          37\n",
       "De Jong Frenkie      27\n",
       "De Ligt Matthijs     18\n",
       "Kane Harry           16\n",
       "Name: Third, dtype: int64"
      ]
     },
     "execution_count": 19,
     "metadata": {},
     "output_type": "execute_result"
    }
   ],
   "source": [
    "third_rank_counts = df['Third'].value_counts()\n",
    "third_rank_counts"
   ]
  },
  {
   "cell_type": "code",
   "execution_count": 20,
   "id": "5379928e",
   "metadata": {},
   "outputs": [
    {
     "data": {
      "text/html": [
       "<div>\n",
       "<style scoped>\n",
       "    .dataframe tbody tr th:only-of-type {\n",
       "        vertical-align: middle;\n",
       "    }\n",
       "\n",
       "    .dataframe tbody tr th {\n",
       "        vertical-align: top;\n",
       "    }\n",
       "\n",
       "    .dataframe thead th {\n",
       "        text-align: right;\n",
       "    }\n",
       "</style>\n",
       "<table border=\"1\" class=\"dataframe\">\n",
       "  <thead>\n",
       "    <tr style=\"text-align: right;\">\n",
       "      <th></th>\n",
       "      <th>first_rank</th>\n",
       "      <th>second_rank</th>\n",
       "      <th>third_rank</th>\n",
       "    </tr>\n",
       "  </thead>\n",
       "  <tbody>\n",
       "    <tr>\n",
       "      <th>Van Dijk Virgil</th>\n",
       "      <td>153</td>\n",
       "      <td>86</td>\n",
       "      <td>65</td>\n",
       "    </tr>\n",
       "    <tr>\n",
       "      <th>Messi Lionel</th>\n",
       "      <td>135</td>\n",
       "      <td>126</td>\n",
       "      <td>67</td>\n",
       "    </tr>\n",
       "    <tr>\n",
       "      <th>Cristiano Ronaldo</th>\n",
       "      <td>108</td>\n",
       "      <td>92</td>\n",
       "      <td>85</td>\n",
       "    </tr>\n",
       "    <tr>\n",
       "      <th>Salah Mohamed</th>\n",
       "      <td>34</td>\n",
       "      <td>39</td>\n",
       "      <td>73</td>\n",
       "    </tr>\n",
       "    <tr>\n",
       "      <th>Mané Sadio</th>\n",
       "      <td>31</td>\n",
       "      <td>44</td>\n",
       "      <td>68</td>\n",
       "    </tr>\n",
       "    <tr>\n",
       "      <th>Mbappé Kylian</th>\n",
       "      <td>15</td>\n",
       "      <td>39</td>\n",
       "      <td>46</td>\n",
       "    </tr>\n",
       "    <tr>\n",
       "      <th>Hazard Eden</th>\n",
       "      <td>9</td>\n",
       "      <td>32</td>\n",
       "      <td>37</td>\n",
       "    </tr>\n",
       "    <tr>\n",
       "      <th>De Jong Frenkie</th>\n",
       "      <td>8</td>\n",
       "      <td>21</td>\n",
       "      <td>27</td>\n",
       "    </tr>\n",
       "    <tr>\n",
       "      <th>Kane Harry</th>\n",
       "      <td>6</td>\n",
       "      <td>6</td>\n",
       "      <td>16</td>\n",
       "    </tr>\n",
       "    <tr>\n",
       "      <th>De Ligt Matthijs</th>\n",
       "      <td>3</td>\n",
       "      <td>17</td>\n",
       "      <td>18</td>\n",
       "    </tr>\n",
       "  </tbody>\n",
       "</table>\n",
       "</div>"
      ],
      "text/plain": [
       "                   first_rank  second_rank  third_rank\n",
       "Van Dijk Virgil           153           86          65\n",
       "Messi Lionel              135          126          67\n",
       "Cristiano Ronaldo         108           92          85\n",
       "Salah Mohamed              34           39          73\n",
       "Mané Sadio                 31           44          68\n",
       "Mbappé Kylian              15           39          46\n",
       "Hazard Eden                 9           32          37\n",
       "De Jong Frenkie             8           21          27\n",
       "Kane Harry                  6            6          16\n",
       "De Ligt Matthijs            3           17          18"
      ]
     },
     "execution_count": 20,
     "metadata": {},
     "output_type": "execute_result"
    }
   ],
   "source": [
    "player_rank_count_df = pd.concat([first_rank_counts,second_rank_counts,third_rank_counts],\n",
    "                                 axis=1,keys=['first_rank','second_rank','third_rank'])\n",
    "player_rank_count_df"
   ]
  },
  {
   "cell_type": "code",
   "execution_count": 21,
   "id": "4f8527cb",
   "metadata": {},
   "outputs": [],
   "source": [
    "player_df = player_rank_count_df.copy()"
   ]
  },
  {
   "cell_type": "markdown",
   "id": "353155c9",
   "metadata": {},
   "source": [
    "5 points for first ranks, 3 points for second ranks, 1 point for third ranks"
   ]
  },
  {
   "cell_type": "code",
   "execution_count": 23,
   "id": "65ce14bc",
   "metadata": {},
   "outputs": [
    {
     "data": {
      "text/html": [
       "<div>\n",
       "<style scoped>\n",
       "    .dataframe tbody tr th:only-of-type {\n",
       "        vertical-align: middle;\n",
       "    }\n",
       "\n",
       "    .dataframe tbody tr th {\n",
       "        vertical-align: top;\n",
       "    }\n",
       "\n",
       "    .dataframe thead th {\n",
       "        text-align: right;\n",
       "    }\n",
       "</style>\n",
       "<table border=\"1\" class=\"dataframe\">\n",
       "  <thead>\n",
       "    <tr style=\"text-align: right;\">\n",
       "      <th></th>\n",
       "      <th>first_rank</th>\n",
       "      <th>second_rank</th>\n",
       "      <th>third_rank</th>\n",
       "      <th>Total_Points</th>\n",
       "    </tr>\n",
       "  </thead>\n",
       "  <tbody>\n",
       "    <tr>\n",
       "      <th>Van Dijk Virgil</th>\n",
       "      <td>153</td>\n",
       "      <td>86</td>\n",
       "      <td>65</td>\n",
       "      <td>1088</td>\n",
       "    </tr>\n",
       "    <tr>\n",
       "      <th>Messi Lionel</th>\n",
       "      <td>135</td>\n",
       "      <td>126</td>\n",
       "      <td>67</td>\n",
       "      <td>1120</td>\n",
       "    </tr>\n",
       "    <tr>\n",
       "      <th>Cristiano Ronaldo</th>\n",
       "      <td>108</td>\n",
       "      <td>92</td>\n",
       "      <td>85</td>\n",
       "      <td>901</td>\n",
       "    </tr>\n",
       "    <tr>\n",
       "      <th>Salah Mohamed</th>\n",
       "      <td>34</td>\n",
       "      <td>39</td>\n",
       "      <td>73</td>\n",
       "      <td>360</td>\n",
       "    </tr>\n",
       "    <tr>\n",
       "      <th>Mané Sadio</th>\n",
       "      <td>31</td>\n",
       "      <td>44</td>\n",
       "      <td>68</td>\n",
       "      <td>355</td>\n",
       "    </tr>\n",
       "    <tr>\n",
       "      <th>Mbappé Kylian</th>\n",
       "      <td>15</td>\n",
       "      <td>39</td>\n",
       "      <td>46</td>\n",
       "      <td>238</td>\n",
       "    </tr>\n",
       "    <tr>\n",
       "      <th>Hazard Eden</th>\n",
       "      <td>9</td>\n",
       "      <td>32</td>\n",
       "      <td>37</td>\n",
       "      <td>178</td>\n",
       "    </tr>\n",
       "    <tr>\n",
       "      <th>De Jong Frenkie</th>\n",
       "      <td>8</td>\n",
       "      <td>21</td>\n",
       "      <td>27</td>\n",
       "      <td>130</td>\n",
       "    </tr>\n",
       "    <tr>\n",
       "      <th>Kane Harry</th>\n",
       "      <td>6</td>\n",
       "      <td>6</td>\n",
       "      <td>16</td>\n",
       "      <td>64</td>\n",
       "    </tr>\n",
       "    <tr>\n",
       "      <th>De Ligt Matthijs</th>\n",
       "      <td>3</td>\n",
       "      <td>17</td>\n",
       "      <td>18</td>\n",
       "      <td>84</td>\n",
       "    </tr>\n",
       "  </tbody>\n",
       "</table>\n",
       "</div>"
      ],
      "text/plain": [
       "                   first_rank  second_rank  third_rank  Total_Points\n",
       "Van Dijk Virgil           153           86          65          1088\n",
       "Messi Lionel              135          126          67          1120\n",
       "Cristiano Ronaldo         108           92          85           901\n",
       "Salah Mohamed              34           39          73           360\n",
       "Mané Sadio                 31           44          68           355\n",
       "Mbappé Kylian              15           39          46           238\n",
       "Hazard Eden                 9           32          37           178\n",
       "De Jong Frenkie             8           21          27           130\n",
       "Kane Harry                  6            6          16            64\n",
       "De Ligt Matthijs            3           17          18            84"
      ]
     },
     "execution_count": 23,
     "metadata": {},
     "output_type": "execute_result"
    }
   ],
   "source": [
    "player_df['Total_Points'] = player_df['first_rank']*5 + player_df['second_rank']*3 + player_df['third_rank']*1\n",
    "player_df"
   ]
  },
  {
   "cell_type": "code",
   "execution_count": 26,
   "id": "348ab2b7",
   "metadata": {},
   "outputs": [
    {
     "data": {
      "text/html": [
       "<div>\n",
       "<style scoped>\n",
       "    .dataframe tbody tr th:only-of-type {\n",
       "        vertical-align: middle;\n",
       "    }\n",
       "\n",
       "    .dataframe tbody tr th {\n",
       "        vertical-align: top;\n",
       "    }\n",
       "\n",
       "    .dataframe thead th {\n",
       "        text-align: right;\n",
       "    }\n",
       "</style>\n",
       "<table border=\"1\" class=\"dataframe\">\n",
       "  <thead>\n",
       "    <tr style=\"text-align: right;\">\n",
       "      <th></th>\n",
       "      <th>first_rank</th>\n",
       "      <th>second_rank</th>\n",
       "      <th>third_rank</th>\n",
       "      <th>Total_Points</th>\n",
       "    </tr>\n",
       "  </thead>\n",
       "  <tbody>\n",
       "    <tr>\n",
       "      <th>Messi Lionel</th>\n",
       "      <td>135</td>\n",
       "      <td>126</td>\n",
       "      <td>67</td>\n",
       "      <td>1120</td>\n",
       "    </tr>\n",
       "    <tr>\n",
       "      <th>Van Dijk Virgil</th>\n",
       "      <td>153</td>\n",
       "      <td>86</td>\n",
       "      <td>65</td>\n",
       "      <td>1088</td>\n",
       "    </tr>\n",
       "    <tr>\n",
       "      <th>Cristiano Ronaldo</th>\n",
       "      <td>108</td>\n",
       "      <td>92</td>\n",
       "      <td>85</td>\n",
       "      <td>901</td>\n",
       "    </tr>\n",
       "    <tr>\n",
       "      <th>Salah Mohamed</th>\n",
       "      <td>34</td>\n",
       "      <td>39</td>\n",
       "      <td>73</td>\n",
       "      <td>360</td>\n",
       "    </tr>\n",
       "    <tr>\n",
       "      <th>Mané Sadio</th>\n",
       "      <td>31</td>\n",
       "      <td>44</td>\n",
       "      <td>68</td>\n",
       "      <td>355</td>\n",
       "    </tr>\n",
       "    <tr>\n",
       "      <th>Mbappé Kylian</th>\n",
       "      <td>15</td>\n",
       "      <td>39</td>\n",
       "      <td>46</td>\n",
       "      <td>238</td>\n",
       "    </tr>\n",
       "    <tr>\n",
       "      <th>Hazard Eden</th>\n",
       "      <td>9</td>\n",
       "      <td>32</td>\n",
       "      <td>37</td>\n",
       "      <td>178</td>\n",
       "    </tr>\n",
       "    <tr>\n",
       "      <th>De Jong Frenkie</th>\n",
       "      <td>8</td>\n",
       "      <td>21</td>\n",
       "      <td>27</td>\n",
       "      <td>130</td>\n",
       "    </tr>\n",
       "    <tr>\n",
       "      <th>De Ligt Matthijs</th>\n",
       "      <td>3</td>\n",
       "      <td>17</td>\n",
       "      <td>18</td>\n",
       "      <td>84</td>\n",
       "    </tr>\n",
       "    <tr>\n",
       "      <th>Kane Harry</th>\n",
       "      <td>6</td>\n",
       "      <td>6</td>\n",
       "      <td>16</td>\n",
       "      <td>64</td>\n",
       "    </tr>\n",
       "  </tbody>\n",
       "</table>\n",
       "</div>"
      ],
      "text/plain": [
       "                   first_rank  second_rank  third_rank  Total_Points\n",
       "Messi Lionel              135          126          67          1120\n",
       "Van Dijk Virgil           153           86          65          1088\n",
       "Cristiano Ronaldo         108           92          85           901\n",
       "Salah Mohamed              34           39          73           360\n",
       "Mané Sadio                 31           44          68           355\n",
       "Mbappé Kylian              15           39          46           238\n",
       "Hazard Eden                 9           32          37           178\n",
       "De Jong Frenkie             8           21          27           130\n",
       "De Ligt Matthijs            3           17          18            84\n",
       "Kane Harry                  6            6          16            64"
      ]
     },
     "execution_count": 26,
     "metadata": {},
     "output_type": "execute_result"
    }
   ],
   "source": [
    "player_df = player_df.sort_values(by='Total_Points', ascending=False)\n",
    "player_df"
   ]
  },
  {
   "cell_type": "code",
   "execution_count": 27,
   "id": "0471c79c",
   "metadata": {},
   "outputs": [
    {
     "data": {
      "image/png": "[encoded data removed]",
      "text/plain": [
       "<Figure size 432x288 with 1 Axes>"
      ]
     },
     "metadata": {
      "needs_background": "light"
     },
     "output_type": "display_data"
    }
   ],
   "source": [
    "player_df['Total_Points'].plot.barh()\n",
    "plt.title(\"Total Points\")\n",
    "plt.show()"
   ]
  },
  {
   "cell_type": "code",
   "execution_count": 28,
   "id": "8e7b0dcc",
   "metadata": {},
   "outputs": [
    {
     "data": {
      "text/plain": [
       "Coach      169\n",
       "Captain    168\n",
       "Media      165\n",
       "Name: Role, dtype: int64"
      ]
     },
     "execution_count": 28,
     "metadata": {},
     "output_type": "execute_result"
    }
   ],
   "source": [
    "df.Role.value_counts()"
   ]
  },
  {
   "cell_type": "code",
   "execution_count": 29,
   "id": "4df75f00",
   "metadata": {},
   "outputs": [
    {
     "data": {
      "text/plain": [
       "Role       0\n",
       "Country    0\n",
       "Name       0\n",
       "First      0\n",
       "Second     0\n",
       "Third      0\n",
       "dtype: int64"
      ]
     },
     "execution_count": 29,
     "metadata": {},
     "output_type": "execute_result"
    }
   ],
   "source": [
    "df.isna().sum()"
   ]
  },
  {
   "cell_type": "code",
   "execution_count": 30,
   "id": "5363aa02",
   "metadata": {},
   "outputs": [
    {
     "data": {
      "text/html": [
       "<div>\n",
       "<style scoped>\n",
       "    .dataframe tbody tr th:only-of-type {\n",
       "        vertical-align: middle;\n",
       "    }\n",
       "\n",
       "    .dataframe tbody tr th {\n",
       "        vertical-align: top;\n",
       "    }\n",
       "\n",
       "    .dataframe thead th {\n",
       "        text-align: right;\n",
       "    }\n",
       "</style>\n",
       "<table border=\"1\" class=\"dataframe\">\n",
       "  <thead>\n",
       "    <tr style=\"text-align: right;\">\n",
       "      <th></th>\n",
       "      <th>Role</th>\n",
       "      <th>Country</th>\n",
       "      <th>Name</th>\n",
       "      <th>First</th>\n",
       "      <th>Second</th>\n",
       "      <th>Third</th>\n",
       "    </tr>\n",
       "  </thead>\n",
       "  <tbody>\n",
       "  </tbody>\n",
       "</table>\n",
       "</div>"
      ],
      "text/plain": [
       "Empty DataFrame\n",
       "Columns: [Role, Country, Name, First, Second, Third]\n",
       "Index: []"
      ]
     },
     "execution_count": 30,
     "metadata": {},
     "output_type": "execute_result"
    }
   ],
   "source": [
    "duplicate_rows = df[df.duplicated()]\n",
    "duplicate_rows"
   ]
  },
  {
   "cell_type": "markdown",
   "id": "b7c14122",
   "metadata": {},
   "source": [
    "Countries from which coach, captain and media voted"
   ]
  },
  {
   "cell_type": "code",
   "execution_count": 32,
   "id": "cdf90a4a",
   "metadata": {},
   "outputs": [
    {
     "data": {
      "text/plain": [
       "array(['Afghanistan', 'Albania', 'Algeria', 'American Samoa', 'Andorra',\n",
       "       'Angola', 'Argentina', 'Australia', 'Austria', 'Azerbaijan',\n",
       "       'Bahamas', 'Bahrain', 'Bangladesh', 'Barbados', 'Belarus',\n",
       "       'Belgium', 'Bermuda', 'Bhutan', 'Bosnia and Herzegovina',\n",
       "       'Botswana', 'Brazil', 'British Virgin Islands',\n",
       "       'Brunei Darussalam', 'Bulgaria', 'Burkina Faso', 'Burundi',\n",
       "       'Cambodia', 'Canada', 'Cape Verde Islands', 'Cayman Islands',\n",
       "       'Central African Republic', 'Chad', 'Chile', 'China PR',\n",
       "       'Chinese Taipei', 'Colombia', 'Comoros', 'Congo', 'Costa Rica',\n",
       "       'Croatia', 'Cuba', 'Cyprus', 'Czech Republic', 'Denmark',\n",
       "       'Djibouti', 'Dominica', 'Dominican Republic', 'Ecuador',\n",
       "       'El Salvador', 'England', 'Eritrea', 'Estonia', 'Eswatini',\n",
       "       'Faroe Islands', 'Finland', 'France', 'Gabon', 'Gambia', 'Georgia',\n",
       "       'Germany', 'Ghana', 'Gibraltar', 'Greece', 'Guinea-Bissau',\n",
       "       'Guyana', 'Haiti', 'Honduras', 'Hong Kong', 'Hungary', 'Iceland',\n",
       "       'India', 'Indonesia', 'IR Iran', 'Israel', 'Italy', 'Jamaica',\n",
       "       'Japan', 'Kazakhstan', 'Korea DPR', 'Korea Republic', 'Kosovo',\n",
       "       'Kyrgyz Republic', 'Laos', 'Latvia', 'Lebanon', 'Lesotho',\n",
       "       'Liechtenstein', 'Lithuania', 'Luxembourg', 'Macau', 'Malawi',\n",
       "       'Malaysia', 'Maldives', 'Mali', 'Malta', 'Mauritania', 'Mauritius',\n",
       "       'Mexico', 'Moldova', 'Mongolia', 'Montenegro', 'Mozambique',\n",
       "       'Myanmar', 'Namibia', 'Nepal', 'Netherlands', 'New Caledonia',\n",
       "       'New Zealand', 'Nicaragua', 'Niger', 'Nigeria', 'North Macedonia',\n",
       "       'Northern Ireland', 'Norway', 'Oman', 'Pakistan', 'Panama',\n",
       "       'Papua New Guinea', 'Paraguay', 'Peru', 'Philippines', 'Poland',\n",
       "       'Portugal', 'Puerto Rico', 'Qatar', 'Republic of Ireland',\n",
       "       'Romania', 'Russia', 'Rwanda', 'San Marino', 'Saudi Arabia',\n",
       "       'Scotland', 'Senegal', 'Serbia', 'Sierra Leone', 'Singapore',\n",
       "       'Slovakia', 'Slovenia', 'South Africa', 'Spain',\n",
       "       'St Kitts and Nevis', 'St Lucia', 'St Vincent and the Grenadines',\n",
       "       'Sudan', 'Suriname', 'Sweden', 'Switzerland', 'Tahiti',\n",
       "       'Tajikistan', 'Tanzania', 'Thailand', 'Togo',\n",
       "       'Trinidad and Tobago', 'Tunisia', 'Turkey', 'Turkmenistan',\n",
       "       'Uganda', 'Ukraine', 'United Arab Emirates', 'Uruguay',\n",
       "       'US Virgin Islands', 'USA', 'Uzbekistan', 'Vanuatu', 'Venezuela',\n",
       "       'Vietnam', 'Wales', 'Zambia', 'Jordan', 'Somalia', 'Armenia',\n",
       "       'Benin', 'Bolivia', 'Cameroon', 'Congo DR', \"Côte d'Ivoire\",\n",
       "       'Curacao', 'Egypt', 'Equitorial Guinea', 'Ethiopia',\n",
       "       'FYR Macedonia', 'Grenada', 'Guam', 'Guatemala', 'Iran', 'Iraq',\n",
       "       'Kenya', 'Kuwait', 'Lybia', 'Madagascar', 'Maleysia', 'Morocco',\n",
       "       'Solomon Islands', 'South Sudan', 'St. Lucia', 'Swaziland',\n",
       "       'Syria', 'Tonga', 'Turks and Caicos Islands', 'Yemen', 'Zimbabwe'],\n",
       "      dtype=object)"
      ]
     },
     "execution_count": 32,
     "metadata": {},
     "output_type": "execute_result"
    }
   ],
   "source": [
    "countries = df['Country'].unique()\n",
    "countries"
   ]
  },
  {
   "cell_type": "code",
   "execution_count": 33,
   "id": "c79ec0dd",
   "metadata": {},
   "outputs": [
    {
     "data": {
      "text/plain": [
       "201"
      ]
     },
     "execution_count": 33,
     "metadata": {},
     "output_type": "execute_result"
    }
   ],
   "source": [
    "len(countries)"
   ]
  },
  {
   "cell_type": "code",
   "execution_count": 41,
   "id": "a935e300",
   "metadata": {},
   "outputs": [],
   "source": [
    "country_voter_details = {}\n",
    "for country in countries:\n",
    "    country_voter_details[country] = {'voters':[], 'unique_voters':0}   "
   ]
  },
  {
   "cell_type": "code",
   "execution_count": 42,
   "id": "c15b6bdf",
   "metadata": {},
   "outputs": [
    {
     "data": {
      "text/plain": [
       "{'Afghanistan': {'voters': [], 'unique_voters': 0},\n",
       " 'Albania': {'voters': [], 'unique_voters': 0},\n",
       " 'Algeria': {'voters': [], 'unique_voters': 0},\n",
       " 'American Samoa': {'voters': [], 'unique_voters': 0},\n",
       " 'Andorra': {'voters': [], 'unique_voters': 0},\n",
       " 'Angola': {'voters': [], 'unique_voters': 0},\n",
       " 'Argentina': {'voters': [], 'unique_voters': 0},\n",
       " 'Australia': {'voters': [], 'unique_voters': 0},\n",
       " 'Austria': {'voters': [], 'unique_voters': 0},\n",
       " 'Azerbaijan': {'voters': [], 'unique_voters': 0},\n",
       " 'Bahamas': {'voters': [], 'unique_voters': 0},\n",
       " 'Bahrain': {'voters': [], 'unique_voters': 0},\n",
       " 'Bangladesh': {'voters': [], 'unique_voters': 0},\n",
       " 'Barbados': {'voters': [], 'unique_voters': 0},\n",
       " 'Belarus': {'voters': [], 'unique_voters': 0},\n",
       " 'Belgium': {'voters': [], 'unique_voters': 0},\n",
       " 'Bermuda': {'voters': [], 'unique_voters': 0},\n",
       " 'Bhutan': {'voters': [], 'unique_voters': 0},\n",
       " 'Bosnia and Herzegovina': {'voters': [], 'unique_voters': 0},\n",
       " 'Botswana': {'voters': [], 'unique_voters': 0},\n",
       " 'Brazil': {'voters': [], 'unique_voters': 0},\n",
       " 'British Virgin Islands': {'voters': [], 'unique_voters': 0},\n",
       " 'Brunei Darussalam': {'voters': [], 'unique_voters': 0},\n",
       " 'Bulgaria': {'voters': [], 'unique_voters': 0},\n",
       " 'Burkina Faso': {'voters': [], 'unique_voters': 0},\n",
       " 'Burundi': {'voters': [], 'unique_voters': 0},\n",
       " 'Cambodia': {'voters': [], 'unique_voters': 0},\n",
       " 'Canada': {'voters': [], 'unique_voters': 0},\n",
       " 'Cape Verde Islands': {'voters': [], 'unique_voters': 0},\n",
       " 'Cayman Islands': {'voters': [], 'unique_voters': 0},\n",
       " 'Central African Republic': {'voters': [], 'unique_voters': 0},\n",
       " 'Chad': {'voters': [], 'unique_voters': 0},\n",
       " 'Chile': {'voters': [], 'unique_voters': 0},\n",
       " 'China PR': {'voters': [], 'unique_voters': 0},\n",
       " 'Chinese Taipei': {'voters': [], 'unique_voters': 0},\n",
       " 'Colombia': {'voters': [], 'unique_voters': 0},\n",
       " 'Comoros': {'voters': [], 'unique_voters': 0},\n",
       " 'Congo': {'voters': [], 'unique_voters': 0},\n",
       " 'Costa Rica': {'voters': [], 'unique_voters': 0},\n",
       " 'Croatia': {'voters': [], 'unique_voters': 0},\n",
       " 'Cuba': {'voters': [], 'unique_voters': 0},\n",
       " 'Cyprus': {'voters': [], 'unique_voters': 0},\n",
       " 'Czech Republic': {'voters': [], 'unique_voters': 0},\n",
       " 'Denmark': {'voters': [], 'unique_voters': 0},\n",
       " 'Djibouti': {'voters': [], 'unique_voters': 0},\n",
       " 'Dominica': {'voters': [], 'unique_voters': 0},\n",
       " 'Dominican Republic': {'voters': [], 'unique_voters': 0},\n",
       " 'Ecuador': {'voters': [], 'unique_voters': 0},\n",
       " 'El Salvador': {'voters': [], 'unique_voters': 0},\n",
       " 'England': {'voters': [], 'unique_voters': 0},\n",
       " 'Eritrea': {'voters': [], 'unique_voters': 0},\n",
       " 'Estonia': {'voters': [], 'unique_voters': 0},\n",
       " 'Eswatini': {'voters': [], 'unique_voters': 0},\n",
       " 'Faroe Islands': {'voters': [], 'unique_voters': 0},\n",
       " 'Finland': {'voters': [], 'unique_voters': 0},\n",
       " 'France': {'voters': [], 'unique_voters': 0},\n",
       " 'Gabon': {'voters': [], 'unique_voters': 0},\n",
       " 'Gambia': {'voters': [], 'unique_voters': 0},\n",
       " 'Georgia': {'voters': [], 'unique_voters': 0},\n",
       " 'Germany': {'voters': [], 'unique_voters': 0},\n",
       " 'Ghana': {'voters': [], 'unique_voters': 0},\n",
       " 'Gibraltar': {'voters': [], 'unique_voters': 0},\n",
       " 'Greece': {'voters': [], 'unique_voters': 0},\n",
       " 'Guinea-Bissau': {'voters': [], 'unique_voters': 0},\n",
       " 'Guyana': {'voters': [], 'unique_voters': 0},\n",
       " 'Haiti': {'voters': [], 'unique_voters': 0},\n",
       " 'Honduras': {'voters': [], 'unique_voters': 0},\n",
       " 'Hong Kong': {'voters': [], 'unique_voters': 0},\n",
       " 'Hungary': {'voters': [], 'unique_voters': 0},\n",
       " 'Iceland': {'voters': [], 'unique_voters': 0},\n",
       " 'India': {'voters': [], 'unique_voters': 0},\n",
       " 'Indonesia': {'voters': [], 'unique_voters': 0},\n",
       " 'IR Iran': {'voters': [], 'unique_voters': 0},\n",
       " 'Israel': {'voters': [], 'unique_voters': 0},\n",
       " 'Italy': {'voters': [], 'unique_voters': 0},\n",
       " 'Jamaica': {'voters': [], 'unique_voters': 0},\n",
       " 'Japan': {'voters': [], 'unique_voters': 0},\n",
       " 'Kazakhstan': {'voters': [], 'unique_voters': 0},\n",
       " 'Korea DPR': {'voters': [], 'unique_voters': 0},\n",
       " 'Korea Republic': {'voters': [], 'unique_voters': 0},\n",
       " 'Kosovo': {'voters': [], 'unique_voters': 0},\n",
       " 'Kyrgyz Republic': {'voters': [], 'unique_voters': 0},\n",
       " 'Laos': {'voters': [], 'unique_voters': 0},\n",
       " 'Latvia': {'voters': [], 'unique_voters': 0},\n",
       " 'Lebanon': {'voters': [], 'unique_voters': 0},\n",
       " 'Lesotho': {'voters': [], 'unique_voters': 0},\n",
       " 'Liechtenstein': {'voters': [], 'unique_voters': 0},\n",
       " 'Lithuania': {'voters': [], 'unique_voters': 0},\n",
       " 'Luxembourg': {'voters': [], 'unique_voters': 0},\n",
       " 'Macau': {'voters': [], 'unique_voters': 0},\n",
       " 'Malawi': {'voters': [], 'unique_voters': 0},\n",
       " 'Malaysia': {'voters': [], 'unique_voters': 0},\n",
       " 'Maldives': {'voters': [], 'unique_voters': 0},\n",
       " 'Mali': {'voters': [], 'unique_voters': 0},\n",
       " 'Malta': {'voters': [], 'unique_voters': 0},\n",
       " 'Mauritania': {'voters': [], 'unique_voters': 0},\n",
       " 'Mauritius': {'voters': [], 'unique_voters': 0},\n",
       " 'Mexico': {'voters': [], 'unique_voters': 0},\n",
       " 'Moldova': {'voters': [], 'unique_voters': 0},\n",
       " 'Mongolia': {'voters': [], 'unique_voters': 0},\n",
       " 'Montenegro': {'voters': [], 'unique_voters': 0},\n",
       " 'Mozambique': {'voters': [], 'unique_voters': 0},\n",
       " 'Myanmar': {'voters': [], 'unique_voters': 0},\n",
       " 'Namibia': {'voters': [], 'unique_voters': 0},\n",
       " 'Nepal': {'voters': [], 'unique_voters': 0},\n",
       " 'Netherlands': {'voters': [], 'unique_voters': 0},\n",
       " 'New Caledonia': {'voters': [], 'unique_voters': 0},\n",
       " 'New Zealand': {'voters': [], 'unique_voters': 0},\n",
       " 'Nicaragua': {'voters': [], 'unique_voters': 0},\n",
       " 'Niger': {'voters': [], 'unique_voters': 0},\n",
       " 'Nigeria': {'voters': [], 'unique_voters': 0},\n",
       " 'North Macedonia': {'voters': [], 'unique_voters': 0},\n",
       " 'Northern Ireland': {'voters': [], 'unique_voters': 0},\n",
       " 'Norway': {'voters': [], 'unique_voters': 0},\n",
       " 'Oman': {'voters': [], 'unique_voters': 0},\n",
       " 'Pakistan': {'voters': [], 'unique_voters': 0},\n",
       " 'Panama': {'voters': [], 'unique_voters': 0},\n",
       " 'Papua New Guinea': {'voters': [], 'unique_voters': 0},\n",
       " 'Paraguay': {'voters': [], 'unique_voters': 0},\n",
       " 'Peru': {'voters': [], 'unique_voters': 0},\n",
       " 'Philippines': {'voters': [], 'unique_voters': 0},\n",
       " 'Poland': {'voters': [], 'unique_voters': 0},\n",
       " 'Portugal': {'voters': [], 'unique_voters': 0},\n",
       " 'Puerto Rico': {'voters': [], 'unique_voters': 0},\n",
       " 'Qatar': {'voters': [], 'unique_voters': 0},\n",
       " 'Republic of Ireland': {'voters': [], 'unique_voters': 0},\n",
       " 'Romania': {'voters': [], 'unique_voters': 0},\n",
       " 'Russia': {'voters': [], 'unique_voters': 0},\n",
       " 'Rwanda': {'voters': [], 'unique_voters': 0},\n",
       " 'San Marino': {'voters': [], 'unique_voters': 0},\n",
       " 'Saudi Arabia': {'voters': [], 'unique_voters': 0},\n",
       " 'Scotland': {'voters': [], 'unique_voters': 0},\n",
       " 'Senegal': {'voters': [], 'unique_voters': 0},\n",
       " 'Serbia': {'voters': [], 'unique_voters': 0},\n",
       " 'Sierra Leone': {'voters': [], 'unique_voters': 0},\n",
       " 'Singapore': {'voters': [], 'unique_voters': 0},\n",
       " 'Slovakia': {'voters': [], 'unique_voters': 0},\n",
       " 'Slovenia': {'voters': [], 'unique_voters': 0},\n",
       " 'South Africa': {'voters': [], 'unique_voters': 0},\n",
       " 'Spain': {'voters': [], 'unique_voters': 0},\n",
       " 'St Kitts and Nevis': {'voters': [], 'unique_voters': 0},\n",
       " 'St Lucia': {'voters': [], 'unique_voters': 0},\n",
       " 'St Vincent and the Grenadines': {'voters': [], 'unique_voters': 0},\n",
       " 'Sudan': {'voters': [], 'unique_voters': 0},\n",
       " 'Suriname': {'voters': [], 'unique_voters': 0},\n",
       " 'Sweden': {'voters': [], 'unique_voters': 0},\n",
       " 'Switzerland': {'voters': [], 'unique_voters': 0},\n",
       " 'Tahiti': {'voters': [], 'unique_voters': 0},\n",
       " 'Tajikistan': {'voters': [], 'unique_voters': 0},\n",
       " 'Tanzania': {'voters': [], 'unique_voters': 0},\n",
       " 'Thailand': {'voters': [], 'unique_voters': 0},\n",
       " 'Togo': {'voters': [], 'unique_voters': 0},\n",
       " 'Trinidad and Tobago': {'voters': [], 'unique_voters': 0},\n",
       " 'Tunisia': {'voters': [], 'unique_voters': 0},\n",
       " 'Turkey': {'voters': [], 'unique_voters': 0},\n",
       " 'Turkmenistan': {'voters': [], 'unique_voters': 0},\n",
       " 'Uganda': {'voters': [], 'unique_voters': 0},\n",
       " 'Ukraine': {'voters': [], 'unique_voters': 0},\n",
       " 'United Arab Emirates': {'voters': [], 'unique_voters': 0},\n",
       " 'Uruguay': {'voters': [], 'unique_voters': 0},\n",
       " 'US Virgin Islands': {'voters': [], 'unique_voters': 0},\n",
       " 'USA': {'voters': [], 'unique_voters': 0},\n",
       " 'Uzbekistan': {'voters': [], 'unique_voters': 0},\n",
       " 'Vanuatu': {'voters': [], 'unique_voters': 0},\n",
       " 'Venezuela': {'voters': [], 'unique_voters': 0},\n",
       " 'Vietnam': {'voters': [], 'unique_voters': 0},\n",
       " 'Wales': {'voters': [], 'unique_voters': 0},\n",
       " 'Zambia': {'voters': [], 'unique_voters': 0},\n",
       " 'Jordan': {'voters': [], 'unique_voters': 0},\n",
       " 'Somalia': {'voters': [], 'unique_voters': 0},\n",
       " 'Armenia': {'voters': [], 'unique_voters': 0},\n",
       " 'Benin': {'voters': [], 'unique_voters': 0},\n",
       " 'Bolivia': {'voters': [], 'unique_voters': 0},\n",
       " 'Cameroon': {'voters': [], 'unique_voters': 0},\n",
       " 'Congo DR': {'voters': [], 'unique_voters': 0},\n",
       " \"Côte d'Ivoire\": {'voters': [], 'unique_voters': 0},\n",
       " 'Curacao': {'voters': [], 'unique_voters': 0},\n",
       " 'Egypt': {'voters': [], 'unique_voters': 0},\n",
       " 'Equitorial Guinea': {'voters': [], 'unique_voters': 0},\n",
       " 'Ethiopia': {'voters': [], 'unique_voters': 0},\n",
       " 'FYR Macedonia': {'voters': [], 'unique_voters': 0},\n",
       " 'Grenada': {'voters': [], 'unique_voters': 0},\n",
       " 'Guam': {'voters': [], 'unique_voters': 0},\n",
       " 'Guatemala': {'voters': [], 'unique_voters': 0},\n",
       " 'Iran': {'voters': [], 'unique_voters': 0},\n",
       " 'Iraq': {'voters': [], 'unique_voters': 0},\n",
       " 'Kenya': {'voters': [], 'unique_voters': 0},\n",
       " 'Kuwait': {'voters': [], 'unique_voters': 0},\n",
       " 'Lybia': {'voters': [], 'unique_voters': 0},\n",
       " 'Madagascar': {'voters': [], 'unique_voters': 0},\n",
       " 'Maleysia': {'voters': [], 'unique_voters': 0},\n",
       " 'Morocco': {'voters': [], 'unique_voters': 0},\n",
       " 'Solomon Islands': {'voters': [], 'unique_voters': 0},\n",
       " 'South Sudan': {'voters': [], 'unique_voters': 0},\n",
       " 'St. Lucia': {'voters': [], 'unique_voters': 0},\n",
       " 'Swaziland': {'voters': [], 'unique_voters': 0},\n",
       " 'Syria': {'voters': [], 'unique_voters': 0},\n",
       " 'Tonga': {'voters': [], 'unique_voters': 0},\n",
       " 'Turks and Caicos Islands': {'voters': [], 'unique_voters': 0},\n",
       " 'Yemen': {'voters': [], 'unique_voters': 0},\n",
       " 'Zimbabwe': {'voters': [], 'unique_voters': 0}}"
      ]
     },
     "execution_count": 42,
     "metadata": {},
     "output_type": "execute_result"
    }
   ],
   "source": [
    "country_voter_details"
   ]
  },
  {
   "cell_type": "code",
   "execution_count": 43,
   "id": "31e93993",
   "metadata": {},
   "outputs": [],
   "source": [
    "for i in range(len(df)):\n",
    "    role = df['Role'][i]\n",
    "    country = df[\"Country\"][i]\n",
    "    if role not in country_voter_details[country]['voters']:\n",
    "        country_voter_details[country]['unique_voters'] += 1\n",
    "    country_voter_details[country]['voters'].append(role)"
   ]
  },
  {
   "cell_type": "code",
   "execution_count": 44,
   "id": "f593fef1",
   "metadata": {},
   "outputs": [
    {
     "data": {
      "text/plain": [
       "{'Afghanistan': {'voters': ['Captain', 'Coach', 'Media'], 'unique_voters': 3},\n",
       " 'Albania': {'voters': ['Captain', 'Coach', 'Media'], 'unique_voters': 3},\n",
       " 'Algeria': {'voters': ['Captain', 'Coach', 'Media'], 'unique_voters': 3},\n",
       " 'American Samoa': {'voters': ['Captain', 'Coach', 'Media'],\n",
       "  'unique_voters': 3},\n",
       " 'Andorra': {'voters': ['Captain', 'Coach', 'Media'], 'unique_voters': 3},\n",
       " 'Angola': {'voters': ['Captain', 'Coach', 'Media'], 'unique_voters': 3},\n",
       " 'Argentina': {'voters': ['Captain', 'Coach', 'Media'], 'unique_voters': 3},\n",
       " 'Australia': {'voters': ['Captain', 'Coach'], 'unique_voters': 2},\n",
       " 'Austria': {'voters': ['Captain', 'Coach', 'Media'], 'unique_voters': 3},\n",
       " 'Azerbaijan': {'voters': ['Captain', 'Coach', 'Media'], 'unique_voters': 3},\n",
       " 'Bahamas': {'voters': ['Captain', 'Coach'], 'unique_voters': 2},\n",
       " 'Bahrain': {'voters': ['Captain', 'Coach', 'Media'], 'unique_voters': 3},\n",
       " 'Bangladesh': {'voters': ['Captain', 'Coach', 'Media'], 'unique_voters': 3},\n",
       " 'Barbados': {'voters': ['Captain', 'Coach'], 'unique_voters': 2},\n",
       " 'Belarus': {'voters': ['Captain', 'Coach', 'Media'], 'unique_voters': 3},\n",
       " 'Belgium': {'voters': ['Captain', 'Coach', 'Media'], 'unique_voters': 3},\n",
       " 'Bermuda': {'voters': ['Captain', 'Coach', 'Media'], 'unique_voters': 3},\n",
       " 'Bhutan': {'voters': ['Captain', 'Coach'], 'unique_voters': 2},\n",
       " 'Bosnia and Herzegovina': {'voters': ['Captain', 'Coach'],\n",
       "  'unique_voters': 2},\n",
       " 'Botswana': {'voters': ['Captain', 'Coach', 'Media'], 'unique_voters': 3},\n",
       " 'Brazil': {'voters': ['Captain', 'Coach', 'Media'], 'unique_voters': 3},\n",
       " 'British Virgin Islands': {'voters': ['Captain', 'Coach'],\n",
       "  'unique_voters': 2},\n",
       " 'Brunei Darussalam': {'voters': ['Captain', 'Coach'], 'unique_voters': 2},\n",
       " 'Bulgaria': {'voters': ['Captain', 'Coach', 'Media'], 'unique_voters': 3},\n",
       " 'Burkina Faso': {'voters': ['Captain', 'Coach', 'Media'], 'unique_voters': 3},\n",
       " 'Burundi': {'voters': ['Captain', 'Coach'], 'unique_voters': 2},\n",
       " 'Cambodia': {'voters': ['Captain', 'Coach', 'Media'], 'unique_voters': 3},\n",
       " 'Canada': {'voters': ['Captain', 'Coach', 'Media'], 'unique_voters': 3},\n",
       " 'Cape Verde Islands': {'voters': ['Captain', 'Coach', 'Media'],\n",
       "  'unique_voters': 3},\n",
       " 'Cayman Islands': {'voters': ['Captain', 'Coach'], 'unique_voters': 2},\n",
       " 'Central African Republic': {'voters': ['Captain', 'Coach'],\n",
       "  'unique_voters': 2},\n",
       " 'Chad': {'voters': ['Captain', 'Coach', 'Media'], 'unique_voters': 3},\n",
       " 'Chile': {'voters': ['Captain', 'Coach', 'Media'], 'unique_voters': 3},\n",
       " 'China PR': {'voters': ['Captain', 'Coach', 'Media'], 'unique_voters': 3},\n",
       " 'Chinese Taipei': {'voters': ['Captain', 'Coach', 'Media'],\n",
       "  'unique_voters': 3},\n",
       " 'Colombia': {'voters': ['Captain', 'Coach', 'Media'], 'unique_voters': 3},\n",
       " 'Comoros': {'voters': ['Captain', 'Coach', 'Media'], 'unique_voters': 3},\n",
       " 'Congo': {'voters': ['Captain', 'Coach', 'Media'], 'unique_voters': 3},\n",
       " 'Costa Rica': {'voters': ['Captain', 'Coach', 'Media'], 'unique_voters': 3},\n",
       " 'Croatia': {'voters': ['Captain', 'Coach', 'Media'], 'unique_voters': 3},\n",
       " 'Cuba': {'voters': ['Captain', 'Coach', 'Media'], 'unique_voters': 3},\n",
       " 'Cyprus': {'voters': ['Captain', 'Coach', 'Media'], 'unique_voters': 3},\n",
       " 'Czech Republic': {'voters': ['Captain', 'Coach'], 'unique_voters': 2},\n",
       " 'Denmark': {'voters': ['Captain', 'Coach', 'Media'], 'unique_voters': 3},\n",
       " 'Djibouti': {'voters': ['Captain', 'Coach'], 'unique_voters': 2},\n",
       " 'Dominica': {'voters': ['Captain', 'Coach'], 'unique_voters': 2},\n",
       " 'Dominican Republic': {'voters': ['Captain', 'Coach', 'Media'],\n",
       "  'unique_voters': 3},\n",
       " 'Ecuador': {'voters': ['Captain', 'Coach', 'Media'], 'unique_voters': 3},\n",
       " 'El Salvador': {'voters': ['Captain', 'Coach', 'Media'], 'unique_voters': 3},\n",
       " 'England': {'voters': ['Captain', 'Coach', 'Media'], 'unique_voters': 3},\n",
       " 'Eritrea': {'voters': ['Captain', 'Coach', 'Media'], 'unique_voters': 3},\n",
       " 'Estonia': {'voters': ['Captain', 'Coach', 'Media'], 'unique_voters': 3},\n",
       " 'Eswatini': {'voters': ['Captain', 'Coach'], 'unique_voters': 2},\n",
       " 'Faroe Islands': {'voters': ['Captain', 'Coach', 'Media'],\n",
       "  'unique_voters': 3},\n",
       " 'Finland': {'voters': ['Captain', 'Coach', 'Media'], 'unique_voters': 3},\n",
       " 'France': {'voters': ['Captain', 'Coach', 'Media'], 'unique_voters': 3},\n",
       " 'Gabon': {'voters': ['Captain', 'Coach', 'Media'], 'unique_voters': 3},\n",
       " 'Gambia': {'voters': ['Captain', 'Coach', 'Media'], 'unique_voters': 3},\n",
       " 'Georgia': {'voters': ['Captain', 'Coach', 'Media'], 'unique_voters': 3},\n",
       " 'Germany': {'voters': ['Captain', 'Coach', 'Media'], 'unique_voters': 3},\n",
       " 'Ghana': {'voters': ['Captain', 'Coach', 'Media'], 'unique_voters': 3},\n",
       " 'Gibraltar': {'voters': ['Captain', 'Coach', 'Media'], 'unique_voters': 3},\n",
       " 'Greece': {'voters': ['Captain', 'Coach', 'Media'], 'unique_voters': 3},\n",
       " 'Guinea-Bissau': {'voters': ['Captain', 'Coach', 'Media'],\n",
       "  'unique_voters': 3},\n",
       " 'Guyana': {'voters': ['Captain', 'Coach', 'Media'], 'unique_voters': 3},\n",
       " 'Haiti': {'voters': ['Captain', 'Coach', 'Media'], 'unique_voters': 3},\n",
       " 'Honduras': {'voters': ['Captain', 'Coach', 'Media'], 'unique_voters': 3},\n",
       " 'Hong Kong': {'voters': ['Captain', 'Coach', 'Media'], 'unique_voters': 3},\n",
       " 'Hungary': {'voters': ['Captain', 'Coach', 'Media'], 'unique_voters': 3},\n",
       " 'Iceland': {'voters': ['Captain', 'Coach', 'Media'], 'unique_voters': 3},\n",
       " 'India': {'voters': ['Captain', 'Coach', 'Media'], 'unique_voters': 3},\n",
       " 'Indonesia': {'voters': ['Captain', 'Coach', 'Media'], 'unique_voters': 3},\n",
       " 'IR Iran': {'voters': ['Captain', 'Coach'], 'unique_voters': 2},\n",
       " 'Israel': {'voters': ['Captain', 'Coach', 'Media'], 'unique_voters': 3},\n",
       " 'Italy': {'voters': ['Captain', 'Coach', 'Media'], 'unique_voters': 3},\n",
       " 'Jamaica': {'voters': ['Captain', 'Coach'], 'unique_voters': 2},\n",
       " 'Japan': {'voters': ['Captain', 'Coach', 'Media'], 'unique_voters': 3},\n",
       " 'Kazakhstan': {'voters': ['Captain', 'Coach', 'Media'], 'unique_voters': 3},\n",
       " 'Korea DPR': {'voters': ['Captain', 'Coach'], 'unique_voters': 2},\n",
       " 'Korea Republic': {'voters': ['Captain', 'Coach', 'Media'],\n",
       "  'unique_voters': 3},\n",
       " 'Kosovo': {'voters': ['Captain', 'Coach', 'Media'], 'unique_voters': 3},\n",
       " 'Kyrgyz Republic': {'voters': ['Captain', 'Coach'], 'unique_voters': 2},\n",
       " 'Laos': {'voters': ['Captain', 'Coach'], 'unique_voters': 2},\n",
       " 'Latvia': {'voters': ['Captain', 'Coach', 'Media'], 'unique_voters': 3},\n",
       " 'Lebanon': {'voters': ['Captain', 'Coach', 'Media'], 'unique_voters': 3},\n",
       " 'Lesotho': {'voters': ['Captain', 'Coach'], 'unique_voters': 2},\n",
       " 'Liechtenstein': {'voters': ['Captain', 'Coach', 'Media'],\n",
       "  'unique_voters': 3},\n",
       " 'Lithuania': {'voters': ['Captain', 'Coach', 'Media'], 'unique_voters': 3},\n",
       " 'Luxembourg': {'voters': ['Captain', 'Coach', 'Media'], 'unique_voters': 3},\n",
       " 'Macau': {'voters': ['Captain', 'Coach', 'Media'], 'unique_voters': 3},\n",
       " 'Malawi': {'voters': ['Captain', 'Coach', 'Media'], 'unique_voters': 3},\n",
       " 'Malaysia': {'voters': ['Captain', 'Coach'], 'unique_voters': 2},\n",
       " 'Maldives': {'voters': ['Captain', 'Coach', 'Media'], 'unique_voters': 3},\n",
       " 'Mali': {'voters': ['Captain', 'Coach', 'Media'], 'unique_voters': 3},\n",
       " 'Malta': {'voters': ['Captain', 'Coach', 'Media'], 'unique_voters': 3},\n",
       " 'Mauritania': {'voters': ['Captain', 'Coach', 'Media'], 'unique_voters': 3},\n",
       " 'Mauritius': {'voters': ['Captain', 'Coach'], 'unique_voters': 2},\n",
       " 'Mexico': {'voters': ['Captain', 'Coach', 'Media'], 'unique_voters': 3},\n",
       " 'Moldova': {'voters': ['Captain', 'Coach', 'Media'], 'unique_voters': 3},\n",
       " 'Mongolia': {'voters': ['Captain', 'Coach', 'Media'], 'unique_voters': 3},\n",
       " 'Montenegro': {'voters': ['Captain', 'Coach', 'Media'], 'unique_voters': 3},\n",
       " 'Mozambique': {'voters': ['Captain', 'Coach'], 'unique_voters': 2},\n",
       " 'Myanmar': {'voters': ['Captain', 'Coach'], 'unique_voters': 2},\n",
       " 'Namibia': {'voters': ['Captain', 'Coach', 'Media'], 'unique_voters': 3},\n",
       " 'Nepal': {'voters': ['Captain', 'Coach', 'Media'], 'unique_voters': 3},\n",
       " 'Netherlands': {'voters': ['Captain', 'Coach', 'Media'], 'unique_voters': 3},\n",
       " 'New Caledonia': {'voters': ['Captain', 'Coach'], 'unique_voters': 2},\n",
       " 'New Zealand': {'voters': ['Captain', 'Coach', 'Media'], 'unique_voters': 3},\n",
       " 'Nicaragua': {'voters': ['Captain', 'Coach'], 'unique_voters': 2},\n",
       " 'Niger': {'voters': ['Captain', 'Coach', 'Media'], 'unique_voters': 3},\n",
       " 'Nigeria': {'voters': ['Captain', 'Coach', 'Media'], 'unique_voters': 3},\n",
       " 'North Macedonia': {'voters': ['Captain', 'Coach'], 'unique_voters': 2},\n",
       " 'Northern Ireland': {'voters': ['Captain', 'Coach', 'Media'],\n",
       "  'unique_voters': 3},\n",
       " 'Norway': {'voters': ['Captain', 'Coach', 'Media'], 'unique_voters': 3},\n",
       " 'Oman': {'voters': ['Captain', 'Media'], 'unique_voters': 2},\n",
       " 'Pakistan': {'voters': ['Captain', 'Coach', 'Media'], 'unique_voters': 3},\n",
       " 'Panama': {'voters': ['Captain', 'Coach', 'Media'], 'unique_voters': 3},\n",
       " 'Papua New Guinea': {'voters': ['Captain', 'Coach'], 'unique_voters': 2},\n",
       " 'Paraguay': {'voters': ['Captain', 'Coach', 'Media'], 'unique_voters': 3},\n",
       " 'Peru': {'voters': ['Captain', 'Coach', 'Media'], 'unique_voters': 3},\n",
       " 'Philippines': {'voters': ['Captain', 'Coach', 'Media'], 'unique_voters': 3},\n",
       " 'Poland': {'voters': ['Captain', 'Coach', 'Media'], 'unique_voters': 3},\n",
       " 'Portugal': {'voters': ['Captain', 'Coach', 'Media'], 'unique_voters': 3},\n",
       " 'Puerto Rico': {'voters': ['Captain', 'Coach', 'Media'], 'unique_voters': 3},\n",
       " 'Qatar': {'voters': ['Captain', 'Coach'], 'unique_voters': 2},\n",
       " 'Republic of Ireland': {'voters': ['Captain', 'Coach', 'Media'],\n",
       "  'unique_voters': 3},\n",
       " 'Romania': {'voters': ['Captain', 'Coach', 'Media'], 'unique_voters': 3},\n",
       " 'Russia': {'voters': ['Captain', 'Coach', 'Media'], 'unique_voters': 3},\n",
       " 'Rwanda': {'voters': ['Captain', 'Coach', 'Media'], 'unique_voters': 3},\n",
       " 'San Marino': {'voters': ['Captain', 'Coach', 'Media'], 'unique_voters': 3},\n",
       " 'Saudi Arabia': {'voters': ['Captain', 'Coach', 'Media'], 'unique_voters': 3},\n",
       " 'Scotland': {'voters': ['Captain', 'Coach', 'Media'], 'unique_voters': 3},\n",
       " 'Senegal': {'voters': ['Captain', 'Coach', 'Media'], 'unique_voters': 3},\n",
       " 'Serbia': {'voters': ['Captain', 'Coach', 'Media'], 'unique_voters': 3},\n",
       " 'Sierra Leone': {'voters': ['Captain', 'Coach', 'Media'], 'unique_voters': 3},\n",
       " 'Singapore': {'voters': ['Captain', 'Coach', 'Media'], 'unique_voters': 3},\n",
       " 'Slovakia': {'voters': ['Captain', 'Coach', 'Media'], 'unique_voters': 3},\n",
       " 'Slovenia': {'voters': ['Captain', 'Coach', 'Media'], 'unique_voters': 3},\n",
       " 'South Africa': {'voters': ['Captain', 'Coach', 'Media'], 'unique_voters': 3},\n",
       " 'Spain': {'voters': ['Captain', 'Coach', 'Media'], 'unique_voters': 3},\n",
       " 'St Kitts and Nevis': {'voters': ['Captain', 'Coach'], 'unique_voters': 2},\n",
       " 'St Lucia': {'voters': ['Captain', 'Coach'], 'unique_voters': 2},\n",
       " 'St Vincent and the Grenadines': {'voters': ['Captain', 'Coach'],\n",
       "  'unique_voters': 2},\n",
       " 'Sudan': {'voters': ['Captain', 'Coach', 'Media'], 'unique_voters': 3},\n",
       " 'Suriname': {'voters': ['Captain', 'Coach', 'Media'], 'unique_voters': 3},\n",
       " 'Sweden': {'voters': ['Captain', 'Coach', 'Media'], 'unique_voters': 3},\n",
       " 'Switzerland': {'voters': ['Captain', 'Coach', 'Media'], 'unique_voters': 3},\n",
       " 'Tahiti': {'voters': ['Captain', 'Coach', 'Media'], 'unique_voters': 3},\n",
       " 'Tajikistan': {'voters': ['Captain', 'Coach', 'Media'], 'unique_voters': 3},\n",
       " 'Tanzania': {'voters': ['Captain', 'Coach'], 'unique_voters': 2},\n",
       " 'Thailand': {'voters': ['Captain', 'Coach', 'Media'], 'unique_voters': 3},\n",
       " 'Togo': {'voters': ['Captain', 'Coach', 'Media'], 'unique_voters': 3},\n",
       " 'Trinidad and Tobago': {'voters': ['Captain', 'Coach'], 'unique_voters': 2},\n",
       " 'Tunisia': {'voters': ['Captain', 'Coach', 'Media'], 'unique_voters': 3},\n",
       " 'Turkey': {'voters': ['Captain', 'Coach', 'Media'], 'unique_voters': 3},\n",
       " 'Turkmenistan': {'voters': ['Captain', 'Coach', 'Media'], 'unique_voters': 3},\n",
       " 'Uganda': {'voters': ['Captain', 'Coach', 'Media'], 'unique_voters': 3},\n",
       " 'Ukraine': {'voters': ['Captain', 'Coach', 'Media'], 'unique_voters': 3},\n",
       " 'United Arab Emirates': {'voters': ['Captain', 'Coach', 'Media'],\n",
       "  'unique_voters': 3},\n",
       " 'Uruguay': {'voters': ['Captain', 'Coach', 'Media'], 'unique_voters': 3},\n",
       " 'US Virgin Islands': {'voters': ['Captain', 'Coach'], 'unique_voters': 2},\n",
       " 'USA': {'voters': ['Captain', 'Coach', 'Media'], 'unique_voters': 3},\n",
       " 'Uzbekistan': {'voters': ['Captain', 'Coach', 'Media'], 'unique_voters': 3},\n",
       " 'Vanuatu': {'voters': ['Captain', 'Coach'], 'unique_voters': 2},\n",
       " 'Venezuela': {'voters': ['Captain', 'Coach', 'Media'], 'unique_voters': 3},\n",
       " 'Vietnam': {'voters': ['Captain', 'Coach', 'Media'], 'unique_voters': 3},\n",
       " 'Wales': {'voters': ['Captain', 'Coach', 'Media'], 'unique_voters': 3},\n",
       " 'Zambia': {'voters': ['Captain', 'Coach', 'Media'], 'unique_voters': 3},\n",
       " 'Jordan': {'voters': ['Coach', 'Media'], 'unique_voters': 2},\n",
       " 'Somalia': {'voters': ['Coach', 'Media'], 'unique_voters': 2},\n",
       " 'Armenia': {'voters': ['Media'], 'unique_voters': 1},\n",
       " 'Benin': {'voters': ['Media'], 'unique_voters': 1},\n",
       " 'Bolivia': {'voters': ['Media'], 'unique_voters': 1},\n",
       " 'Cameroon': {'voters': ['Media'], 'unique_voters': 1},\n",
       " 'Congo DR': {'voters': ['Media'], 'unique_voters': 1},\n",
       " \"Côte d'Ivoire\": {'voters': ['Media'], 'unique_voters': 1},\n",
       " 'Curacao': {'voters': ['Media'], 'unique_voters': 1},\n",
       " 'Egypt': {'voters': ['Media'], 'unique_voters': 1},\n",
       " 'Equitorial Guinea': {'voters': ['Media'], 'unique_voters': 1},\n",
       " 'Ethiopia': {'voters': ['Media'], 'unique_voters': 1},\n",
       " 'FYR Macedonia': {'voters': ['Media'], 'unique_voters': 1},\n",
       " 'Grenada': {'voters': ['Media'], 'unique_voters': 1},\n",
       " 'Guam': {'voters': ['Media'], 'unique_voters': 1},\n",
       " 'Guatemala': {'voters': ['Media'], 'unique_voters': 1},\n",
       " 'Iran': {'voters': ['Media'], 'unique_voters': 1},\n",
       " 'Iraq': {'voters': ['Media'], 'unique_voters': 1},\n",
       " 'Kenya': {'voters': ['Media'], 'unique_voters': 1},\n",
       " 'Kuwait': {'voters': ['Media'], 'unique_voters': 1},\n",
       " 'Lybia': {'voters': ['Media'], 'unique_voters': 1},\n",
       " 'Madagascar': {'voters': ['Media'], 'unique_voters': 1},\n",
       " 'Maleysia': {'voters': ['Media'], 'unique_voters': 1},\n",
       " 'Morocco': {'voters': ['Media'], 'unique_voters': 1},\n",
       " 'Solomon Islands': {'voters': ['Media'], 'unique_voters': 1},\n",
       " 'South Sudan': {'voters': ['Media'], 'unique_voters': 1},\n",
       " 'St. Lucia': {'voters': ['Media'], 'unique_voters': 1},\n",
       " 'Swaziland': {'voters': ['Media'], 'unique_voters': 1},\n",
       " 'Syria': {'voters': ['Media'], 'unique_voters': 1},\n",
       " 'Tonga': {'voters': ['Media'], 'unique_voters': 1},\n",
       " 'Turks and Caicos Islands': {'voters': ['Media'], 'unique_voters': 1},\n",
       " 'Yemen': {'voters': ['Media'], 'unique_voters': 1},\n",
       " 'Zimbabwe': {'voters': ['Media'], 'unique_voters': 1}}"
      ]
     },
     "execution_count": 44,
     "metadata": {},
     "output_type": "execute_result"
    }
   ],
   "source": [
    "country_voter_details"
   ]
  },
  {
   "cell_type": "code",
   "execution_count": 48,
   "id": "8b1a7add",
   "metadata": {},
   "outputs": [],
   "source": [
    "country_with_three_votes = []\n",
    "country_with_two_votes = []\n",
    "country_with_one_vote = []\n",
    "for country in countries:\n",
    "    if country_voter_details[country]['unique_voters'] == 3:\n",
    "        country_with_three_votes.append(country)  \n",
    "    elif country_voter_details[country]['unique_voters'] == 2:\n",
    "        country_with_two_votes.append(country)\n",
    "    else:\n",
    "        country_with_one_vote.append(country)\n",
    "        "
   ]
  },
  {
   "cell_type": "code",
   "execution_count": 54,
   "id": "6acb3034",
   "metadata": {},
   "outputs": [
    {
     "name": "stdout",
     "output_type": "stream",
     "text": [
      "countries with 2 votes: ['Australia', 'Bahamas', 'Barbados', 'Bhutan', 'Bosnia and Herzegovina', 'British Virgin Islands', 'Brunei Darussalam', 'Burundi', 'Cayman Islands', 'Central African Republic', 'Czech Republic', 'Djibouti', 'Dominica', 'Eswatini', 'IR Iran', 'Jamaica', 'Korea DPR', 'Kyrgyz Republic', 'Laos', 'Lesotho', 'Malaysia', 'Mauritius', 'Mozambique', 'Myanmar', 'New Caledonia', 'Nicaragua', 'North Macedonia', 'Oman', 'Papua New Guinea', 'Qatar', 'St Kitts and Nevis', 'St Lucia', 'St Vincent and the Grenadines', 'Tanzania', 'Trinidad and Tobago', 'US Virgin Islands', 'Vanuatu', 'Jordan', 'Somalia'],\n",
      "\n",
      "countries with 1 vote: ['Armenia', 'Benin', 'Bolivia', 'Cameroon', 'Congo DR', \"Côte d'Ivoire\", 'Curacao', 'Egypt', 'Equitorial Guinea', 'Ethiopia', 'FYR Macedonia', 'Grenada', 'Guam', 'Guatemala', 'Iran', 'Iraq', 'Kenya', 'Kuwait', 'Lybia', 'Madagascar', 'Maleysia', 'Morocco', 'Solomon Islands', 'South Sudan', 'St. Lucia', 'Swaziland', 'Syria', 'Tonga', 'Turks and Caicos Islands', 'Yemen', 'Zimbabwe']\n"
     ]
    }
   ],
   "source": [
    "print(f'countries with 2 votes: {country_with_two_votes},\\n\\ncountries with 1 vote: {country_with_one_vote}')\n"
   ]
  },
  {
   "cell_type": "code",
   "execution_count": 62,
   "id": "b24f65dd",
   "metadata": {},
   "outputs": [
    {
     "data": {
      "text/plain": [
       "{'Cristiano Ronaldo',\n",
       " 'De Jong Frenkie',\n",
       " 'De Ligt Matthijs',\n",
       " 'Hazard Eden',\n",
       " 'Kane Harry',\n",
       " 'Mané Sadio',\n",
       " 'Mbappé Kylian',\n",
       " 'Messi Lionel',\n",
       " 'Salah Mohamed',\n",
       " 'Van Dijk Virgil'}"
      ]
     },
     "execution_count": 62,
     "metadata": {},
     "output_type": "execute_result"
    }
   ],
   "source": [
    "first= set(df.First.unique())\n",
    "first"
   ]
  },
  {
   "cell_type": "code",
   "execution_count": 63,
   "id": "1d87e0dd",
   "metadata": {},
   "outputs": [
    {
     "data": {
      "text/plain": [
       "{'Cristiano Ronaldo',\n",
       " 'De Jong Frenkie',\n",
       " 'De Ligt Matthijs',\n",
       " 'Hazard Eden',\n",
       " 'Kane Harry',\n",
       " 'Mané Sadio',\n",
       " 'Mbappé Kylian',\n",
       " 'Messi Lionel',\n",
       " 'Salah Mohamed',\n",
       " 'Van Dijk Virgil'}"
      ]
     },
     "execution_count": 63,
     "metadata": {},
     "output_type": "execute_result"
    }
   ],
   "source": [
    "second= set(df.Second.unique())\n",
    "second"
   ]
  },
  {
   "cell_type": "code",
   "execution_count": 64,
   "id": "0ada856a",
   "metadata": {},
   "outputs": [
    {
     "data": {
      "text/plain": [
       "{'Cristiano Ronaldo',\n",
       " 'De Jong Frenkie',\n",
       " 'De Ligt Matthijs',\n",
       " 'Hazard Eden',\n",
       " 'Kane Harry',\n",
       " 'Mané Sadio',\n",
       " 'Mbappé Kylian',\n",
       " 'Messi Lionel',\n",
       " 'Salah Mohamed',\n",
       " 'Van Dijk Virgil'}"
      ]
     },
     "execution_count": 64,
     "metadata": {},
     "output_type": "execute_result"
    }
   ],
   "source": [
    "third = set(df.Third.unique())\n",
    "third"
   ]
  },
  {
   "cell_type": "code",
   "execution_count": 65,
   "id": "f13610f8",
   "metadata": {},
   "outputs": [
    {
     "data": {
      "text/plain": [
       "set()"
      ]
     },
     "execution_count": 65,
     "metadata": {},
     "output_type": "execute_result"
    }
   ],
   "source": [
    "first - second"
   ]
  },
  {
   "cell_type": "code",
   "execution_count": 66,
   "id": "35ed5349",
   "metadata": {},
   "outputs": [
    {
     "data": {
      "text/plain": [
       "set()"
      ]
     },
     "execution_count": 66,
     "metadata": {},
     "output_type": "execute_result"
    }
   ],
   "source": [
    "first - third"
   ]
  },
  {
   "cell_type": "markdown",
   "id": "c10044a7",
   "metadata": {},
   "source": [
    "Most popular player among those voted by captains"
   ]
  },
  {
   "cell_type": "code",
   "execution_count": 67,
   "id": "c2e24aae",
   "metadata": {},
   "outputs": [],
   "source": [
    "df_Cap = df[df['Role']=='Captain']"
   ]
  },
  {
   "cell_type": "code",
   "execution_count": 68,
   "id": "8fc03185",
   "metadata": {},
   "outputs": [
    {
     "data": {
      "text/plain": [
       "Messi Lionel         47\n",
       "Cristiano Ronaldo    43\n",
       "Van Dijk Virgil      41\n",
       "Salah Mohamed        12\n",
       "Mané Sadio            8\n",
       "Mbappé Kylian         4\n",
       "De Jong Frenkie       4\n",
       "Kane Harry            3\n",
       "Hazard Eden           3\n",
       "De Ligt Matthijs      3\n",
       "Name: First, dtype: int64"
      ]
     },
     "execution_count": 68,
     "metadata": {},
     "output_type": "execute_result"
    }
   ],
   "source": [
    "Cap_First = df_Cap['First'].value_counts()\n",
    "Cap_First"
   ]
  },
  {
   "cell_type": "markdown",
   "id": "dd251db3",
   "metadata": {},
   "source": [
    "Most Popular player among those voted by coaches"
   ]
  },
  {
   "cell_type": "code",
   "execution_count": 71,
   "id": "de34c01c",
   "metadata": {},
   "outputs": [],
   "source": [
    "df_Coach = df[df['Role']=='Coach']"
   ]
  },
  {
   "cell_type": "code",
   "execution_count": 72,
   "id": "4b92a70c",
   "metadata": {},
   "outputs": [
    {
     "data": {
      "text/plain": [
       "Messi Lionel         45\n",
       "Van Dijk Virgil      41\n",
       "Cristiano Ronaldo    38\n",
       "Salah Mohamed        14\n",
       "Mbappé Kylian        11\n",
       "Mané Sadio            9\n",
       "Hazard Eden           5\n",
       "De Jong Frenkie       4\n",
       "Kane Harry            2\n",
       "Name: First, dtype: int64"
      ]
     },
     "execution_count": 72,
     "metadata": {},
     "output_type": "execute_result"
    }
   ],
   "source": [
    "Coach_First = df_Coach['First'].value_counts()\n",
    "Coach_First"
   ]
  },
  {
   "cell_type": "markdown",
   "id": "85398791",
   "metadata": {},
   "source": [
    "Most Popular Player among those voted by Media"
   ]
  },
  {
   "cell_type": "code",
   "execution_count": 73,
   "id": "968d9a6f",
   "metadata": {},
   "outputs": [],
   "source": [
    "df_Media = df[df['Role']=='Media']"
   ]
  },
  {
   "cell_type": "code",
   "execution_count": 74,
   "id": "5f7b93ff",
   "metadata": {},
   "outputs": [
    {
     "data": {
      "text/plain": [
       "Van Dijk Virgil      71\n",
       "Messi Lionel         43\n",
       "Cristiano Ronaldo    27\n",
       "Mané Sadio           14\n",
       "Salah Mohamed         8\n",
       "Kane Harry            1\n",
       "Hazard Eden           1\n",
       "Name: First, dtype: int64"
      ]
     },
     "execution_count": 74,
     "metadata": {},
     "output_type": "execute_result"
    }
   ],
   "source": [
    "Media_First = df_Media['First'].value_counts()\n",
    "Media_First"
   ]
  },
  {
   "cell_type": "code",
   "execution_count": null,
   "id": "85c83db6",
   "metadata": {},
   "outputs": [],
   "source": []
  }
 ],
 "metadata": {
  "kernelspec": {
   "display_name": "Python 3",
   "language": "python",
   "name": "python3"
  },
  "language_info": {
   "codemirror_mode": {
    "name": "ipython",
    "version": 3
   },
   "file_extension": ".py",
   "mimetype": "text/x-python",
   "name": "python",
   "nbconvert_exporter": "python",
   "pygments_lexer": "ipython3",
   "version": "3.8.8"
  }
 },
 "nbformat": 4,
 "nbformat_minor": 5
}
