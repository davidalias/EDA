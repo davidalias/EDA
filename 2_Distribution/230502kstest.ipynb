{
 "cells": [
  {
   "cell_type": "code",
   "execution_count": 1,
   "id": "26a8d201",
   "metadata": {},
   "outputs": [],
   "source": [
    "import numpy as np\n",
    "from scipy import stats\n",
    "import seaborn as sns\n",
    "import matplotlib.pyplot as plt"
   ]
  },
  {
   "cell_type": "markdown",
   "id": "11905c73",
   "metadata": {},
   "source": [
    "ks test for similarity of two distributions. Here, the null hypothesis is that d1 and d2 follow same distribution"
   ]
  },
  {
   "cell_type": "code",
   "execution_count": 4,
   "id": "5bd4fab1",
   "metadata": {},
   "outputs": [],
   "source": [
    "data_points = np.random.normal(loc = 0, scale =1, size=1000)"
   ]
  },
  {
   "cell_type": "code",
   "execution_count": 5,
   "id": "75660b0a",
   "metadata": {},
   "outputs": [
    {
     "data": {
      "text/plain": [
       "KstestResult(statistic=0.024540138811392054, pvalue=0.5749585821940444)"
      ]
     },
     "execution_count": 5,
     "metadata": {},
     "output_type": "execute_result"
    }
   ],
   "source": [
    "stats.kstest(data_points,'norm')"
   ]
  },
  {
   "cell_type": "markdown",
   "id": "e5798b8d",
   "metadata": {},
   "source": [
    "In the above experiment, accept null hypothesis"
   ]
  },
  {
   "cell_type": "code",
   "execution_count": 6,
   "id": "609283aa",
   "metadata": {},
   "outputs": [],
   "source": [
    "data_points = np.random.normal(loc = 2, scale =7, size=1000)"
   ]
  },
  {
   "cell_type": "code",
   "execution_count": 7,
   "id": "9bf19157",
   "metadata": {},
   "outputs": [
    {
     "data": {
      "text/plain": [
       "KstestResult(statistic=0.4776160674548062, pvalue=3.605174784420119e-210)"
      ]
     },
     "execution_count": 7,
     "metadata": {},
     "output_type": "execute_result"
    }
   ],
   "source": [
    "stats.kstest(data_points,'norm')"
   ]
  },
  {
   "cell_type": "markdown",
   "id": "5bb19db0",
   "metadata": {},
   "source": [
    "In the above experiment, reject null hypothesis"
   ]
  },
  {
   "cell_type": "code",
   "execution_count": null,
   "id": "b3b94c1c",
   "metadata": {},
   "outputs": [],
   "source": []
  }
 ],
 "metadata": {
  "kernelspec": {
   "display_name": "Python 3",
   "language": "python",
   "name": "python3"
  },
  "language_info": {
   "codemirror_mode": {
    "name": "ipython",
    "version": 3
   },
   "file_extension": ".py",
   "mimetype": "text/x-python",
   "name": "python",
   "nbconvert_exporter": "python",
   "pygments_lexer": "ipython3",
   "version": "3.8.8"
  }
 },
 "nbformat": 4,
 "nbformat_minor": 5
}
