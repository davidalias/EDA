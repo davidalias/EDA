{
 "cells": [
  {
   "cell_type": "code",
   "execution_count": 1,
   "id": "80ba445e",
   "metadata": {},
   "outputs": [],
   "source": [
    "import pandas as pd\n",
    "import numpy as np\n",
    "import seaborn as sns\n",
    "import matplotlib.pyplot as plt\n",
    "from sklearn import decomposition\n",
    "from sklearn.preprocessing import StandardScaler"
   ]
  },
  {
   "cell_type": "markdown",
   "id": "19001578",
   "metadata": {},
   "source": [
    "https://www.kaggle.com/code/ryanholbrook/principal-component-analysis"
   ]
  },
  {
   "cell_type": "code",
   "execution_count": 2,
   "id": "2102b221",
   "metadata": {},
   "outputs": [],
   "source": [
    "df = pd.read_csv('wine.csv')"
   ]
  },
  {
   "cell_type": "code",
   "execution_count": 3,
   "id": "bf2388c8",
   "metadata": {},
   "outputs": [
    {
     "data": {
      "text/html": [
       "<div>\n",
       "<style scoped>\n",
       "    .dataframe tbody tr th:only-of-type {\n",
       "        vertical-align: middle;\n",
       "    }\n",
       "\n",
       "    .dataframe tbody tr th {\n",
       "        vertical-align: top;\n",
       "    }\n",
       "\n",
       "    .dataframe thead th {\n",
       "        text-align: right;\n",
       "    }\n",
       "</style>\n",
       "<table border=\"1\" class=\"dataframe\">\n",
       "  <thead>\n",
       "    <tr style=\"text-align: right;\">\n",
       "      <th></th>\n",
       "      <th>1</th>\n",
       "      <th>14.23</th>\n",
       "      <th>1.71</th>\n",
       "      <th>2.43</th>\n",
       "      <th>15.6</th>\n",
       "      <th>127</th>\n",
       "      <th>2.8</th>\n",
       "      <th>3.06</th>\n",
       "      <th>.28</th>\n",
       "      <th>2.29</th>\n",
       "      <th>5.64</th>\n",
       "      <th>1.04</th>\n",
       "      <th>3.92</th>\n",
       "      <th>1065</th>\n",
       "    </tr>\n",
       "  </thead>\n",
       "  <tbody>\n",
       "    <tr>\n",
       "      <th>0</th>\n",
       "      <td>1</td>\n",
       "      <td>13.20</td>\n",
       "      <td>1.78</td>\n",
       "      <td>2.14</td>\n",
       "      <td>11.2</td>\n",
       "      <td>100</td>\n",
       "      <td>2.65</td>\n",
       "      <td>2.76</td>\n",
       "      <td>0.26</td>\n",
       "      <td>1.28</td>\n",
       "      <td>4.38</td>\n",
       "      <td>1.05</td>\n",
       "      <td>3.40</td>\n",
       "      <td>1050</td>\n",
       "    </tr>\n",
       "    <tr>\n",
       "      <th>1</th>\n",
       "      <td>1</td>\n",
       "      <td>13.16</td>\n",
       "      <td>2.36</td>\n",
       "      <td>2.67</td>\n",
       "      <td>18.6</td>\n",
       "      <td>101</td>\n",
       "      <td>2.80</td>\n",
       "      <td>3.24</td>\n",
       "      <td>0.30</td>\n",
       "      <td>2.81</td>\n",
       "      <td>5.68</td>\n",
       "      <td>1.03</td>\n",
       "      <td>3.17</td>\n",
       "      <td>1185</td>\n",
       "    </tr>\n",
       "    <tr>\n",
       "      <th>2</th>\n",
       "      <td>1</td>\n",
       "      <td>14.37</td>\n",
       "      <td>1.95</td>\n",
       "      <td>2.50</td>\n",
       "      <td>16.8</td>\n",
       "      <td>113</td>\n",
       "      <td>3.85</td>\n",
       "      <td>3.49</td>\n",
       "      <td>0.24</td>\n",
       "      <td>2.18</td>\n",
       "      <td>7.80</td>\n",
       "      <td>0.86</td>\n",
       "      <td>3.45</td>\n",
       "      <td>1480</td>\n",
       "    </tr>\n",
       "    <tr>\n",
       "      <th>3</th>\n",
       "      <td>1</td>\n",
       "      <td>13.24</td>\n",
       "      <td>2.59</td>\n",
       "      <td>2.87</td>\n",
       "      <td>21.0</td>\n",
       "      <td>118</td>\n",
       "      <td>2.80</td>\n",
       "      <td>2.69</td>\n",
       "      <td>0.39</td>\n",
       "      <td>1.82</td>\n",
       "      <td>4.32</td>\n",
       "      <td>1.04</td>\n",
       "      <td>2.93</td>\n",
       "      <td>735</td>\n",
       "    </tr>\n",
       "    <tr>\n",
       "      <th>4</th>\n",
       "      <td>1</td>\n",
       "      <td>14.20</td>\n",
       "      <td>1.76</td>\n",
       "      <td>2.45</td>\n",
       "      <td>15.2</td>\n",
       "      <td>112</td>\n",
       "      <td>3.27</td>\n",
       "      <td>3.39</td>\n",
       "      <td>0.34</td>\n",
       "      <td>1.97</td>\n",
       "      <td>6.75</td>\n",
       "      <td>1.05</td>\n",
       "      <td>2.85</td>\n",
       "      <td>1450</td>\n",
       "    </tr>\n",
       "  </tbody>\n",
       "</table>\n",
       "</div>"
      ],
      "text/plain": [
       "   1  14.23  1.71  2.43  15.6  127   2.8  3.06   .28  2.29  5.64  1.04  3.92  \\\n",
       "0  1  13.20  1.78  2.14  11.2  100  2.65  2.76  0.26  1.28  4.38  1.05  3.40   \n",
       "1  1  13.16  2.36  2.67  18.6  101  2.80  3.24  0.30  2.81  5.68  1.03  3.17   \n",
       "2  1  14.37  1.95  2.50  16.8  113  3.85  3.49  0.24  2.18  7.80  0.86  3.45   \n",
       "3  1  13.24  2.59  2.87  21.0  118  2.80  2.69  0.39  1.82  4.32  1.04  2.93   \n",
       "4  1  14.20  1.76  2.45  15.2  112  3.27  3.39  0.34  1.97  6.75  1.05  2.85   \n",
       "\n",
       "   1065  \n",
       "0  1050  \n",
       "1  1185  \n",
       "2  1480  \n",
       "3   735  \n",
       "4  1450  "
      ]
     },
     "execution_count": 3,
     "metadata": {},
     "output_type": "execute_result"
    }
   ],
   "source": [
    "df.head()"
   ]
  },
  {
   "cell_type": "code",
   "execution_count": 4,
   "id": "6b0209b8",
   "metadata": {},
   "outputs": [
    {
     "data": {
      "text/plain": [
       "(177, 14)"
      ]
     },
     "execution_count": 4,
     "metadata": {},
     "output_type": "execute_result"
    }
   ],
   "source": [
    "df.shape"
   ]
  },
  {
   "cell_type": "code",
   "execution_count": 5,
   "id": "b335574d",
   "metadata": {},
   "outputs": [],
   "source": [
    "data_for_pca = df.iloc[:,1:]"
   ]
  },
  {
   "cell_type": "code",
   "execution_count": 6,
   "id": "82d0d340",
   "metadata": {},
   "outputs": [],
   "source": [
    "sample_data = StandardScaler().fit_transform(data_for_pca)"
   ]
  },
  {
   "cell_type": "code",
   "execution_count": 7,
   "id": "93ce32d5",
   "metadata": {},
   "outputs": [
    {
     "data": {
      "text/plain": [
       "array([[ 0.2558245 , -0.50162433, -0.8244853 , ...,  0.40709978,\n",
       "         1.13169801,  0.97105248],\n",
       "       [ 0.20622873,  0.01802001,  1.10768971, ...,  0.3195674 ,\n",
       "         0.80457911,  1.40099798],\n",
       "       [ 1.70650069, -0.34931478,  0.48793547, ..., -0.4244579 ,\n",
       "         1.20281081,  2.34050852],\n",
       "       ...,\n",
       "       [ 0.34261709,  1.73822194, -0.38701171, ..., -1.60614514,\n",
       "        -1.48525319,  0.28632445],\n",
       "       [ 0.21862767,  0.22408586,  0.01400575, ..., -1.56237895,\n",
       "        -1.39991783,  0.30224836],\n",
       "       [ 1.40892609,  1.57695301,  1.36288264, ..., -1.51861275,\n",
       "        -1.42836295, -0.58949046]])"
      ]
     },
     "execution_count": 7,
     "metadata": {},
     "output_type": "execute_result"
    }
   ],
   "source": [
    "sample_data"
   ]
  },
  {
   "cell_type": "code",
   "execution_count": 8,
   "id": "87c453f9",
   "metadata": {},
   "outputs": [],
   "source": [
    "pca = decomposition.PCA()"
   ]
  },
  {
   "cell_type": "code",
   "execution_count": 9,
   "id": "5593e36c",
   "metadata": {},
   "outputs": [],
   "source": [
    "pca_data=pca.fit_transform(sample_data)"
   ]
  },
  {
   "cell_type": "code",
   "execution_count": 10,
   "id": "71b29769",
   "metadata": {},
   "outputs": [],
   "source": [
    "components = [f\"PC{i+1}\" for i in range(pca_data.shape[1])]"
   ]
  },
  {
   "cell_type": "code",
   "execution_count": 11,
   "id": "b729bffe",
   "metadata": {},
   "outputs": [],
   "source": [
    "def plot_variance(pca, width=8, dpi=100):\n",
    "    # Create figure\n",
    "    fig, axs = plt.subplots(1, 2)\n",
    "    n = pca.n_components_\n",
    "    grid = np.arange(1, n + 1)\n",
    "    # Explained variance\n",
    "    evr = pca.explained_variance_ratio_\n",
    "    axs[0].bar(grid, evr)\n",
    "    axs[0].set(\n",
    "        xlabel=\"Component\", title=\"% Explained Variance\", ylim=(0.0, 1.0)\n",
    "    )\n",
    "    # Cumulative Variance\n",
    "    cv = np.cumsum(evr)\n",
    "    axs[1].plot(np.r_[0, grid], np.r_[0, cv], \"o-\")\n",
    "    axs[1].set(\n",
    "        xlabel=\"Component\", title=\"% Cumulative Variance\", ylim=(0.0, 1.0)\n",
    "    )\n",
    "    # Set up figure\n",
    "    fig.set(figwidth=8, dpi=100)\n",
    "    return axs"
   ]
  },
  {
   "cell_type": "code",
   "execution_count": 12,
   "id": "b9b61dd9",
   "metadata": {},
   "outputs": [
    {
     "data": {
      "text/plain": [
       "array([<AxesSubplot:title={'center':'% Explained Variance'}, xlabel='Component'>,\n",
       "       <AxesSubplot:title={'center':'% Cumulative Variance'}, xlabel='Component'>],\n",
       "      dtype=object)"
      ]
     },
     "execution_count": 12,
     "metadata": {},
     "output_type": "execute_result"
    },
    {
     "data": {
      "image/png": "[encoded data removed]",
      "text/plain": [
       "<Figure size 800x400 with 2 Axes>"
      ]
     },
     "metadata": {
      "needs_background": "light"
     },
     "output_type": "display_data"
    }
   ],
   "source": [
    "plot_variance(pca)"
   ]
  },
  {
   "cell_type": "code",
   "execution_count": 13,
   "id": "39f05d61",
   "metadata": {},
   "outputs": [
    {
     "data": {
      "text/plain": [
       "(177, 13)"
      ]
     },
     "execution_count": 13,
     "metadata": {},
     "output_type": "execute_result"
    }
   ],
   "source": [
    "pca_data.shape"
   ]
  },
  {
   "cell_type": "code",
   "execution_count": 14,
   "id": "bf78dc04",
   "metadata": {},
   "outputs": [],
   "source": [
    "pca.n_components = 2"
   ]
  },
  {
   "cell_type": "code",
   "execution_count": 15,
   "id": "9a21355f",
   "metadata": {},
   "outputs": [],
   "source": [
    "pca_data = pca.fit_transform(sample_data)"
   ]
  },
  {
   "cell_type": "code",
   "execution_count": 16,
   "id": "507b62f8",
   "metadata": {},
   "outputs": [
    {
     "name": "stdout",
     "output_type": "stream",
     "text": [
      "(177, 2)\n"
     ]
    }
   ],
   "source": [
    "print(pca_data.shape)"
   ]
  },
  {
   "cell_type": "code",
   "execution_count": 17,
   "id": "0b6fec11",
   "metadata": {},
   "outputs": [],
   "source": [
    "pca_data = pd.DataFrame(pca_data, columns = ['PC1','PC2'])"
   ]
  },
  {
   "cell_type": "code",
   "execution_count": 18,
   "id": "0fd25522",
   "metadata": {},
   "outputs": [
    {
     "data": {
      "text/html": [
       "<div>\n",
       "<style scoped>\n",
       "    .dataframe tbody tr th:only-of-type {\n",
       "        vertical-align: middle;\n",
       "    }\n",
       "\n",
       "    .dataframe tbody tr th {\n",
       "        vertical-align: top;\n",
       "    }\n",
       "\n",
       "    .dataframe thead th {\n",
       "        text-align: right;\n",
       "    }\n",
       "</style>\n",
       "<table border=\"1\" class=\"dataframe\">\n",
       "  <thead>\n",
       "    <tr style=\"text-align: right;\">\n",
       "      <th></th>\n",
       "      <th>PC1</th>\n",
       "      <th>PC2</th>\n",
       "    </tr>\n",
       "  </thead>\n",
       "  <tbody>\n",
       "    <tr>\n",
       "      <th>0</th>\n",
       "      <td>2.230243</td>\n",
       "      <td>0.302313</td>\n",
       "    </tr>\n",
       "    <tr>\n",
       "      <th>1</th>\n",
       "      <td>2.531922</td>\n",
       "      <td>-1.062257</td>\n",
       "    </tr>\n",
       "    <tr>\n",
       "      <th>2</th>\n",
       "      <td>3.754677</td>\n",
       "      <td>-2.805309</td>\n",
       "    </tr>\n",
       "    <tr>\n",
       "      <th>3</th>\n",
       "      <td>1.020131</td>\n",
       "      <td>-0.888380</td>\n",
       "    </tr>\n",
       "    <tr>\n",
       "      <th>4</th>\n",
       "      <td>3.049199</td>\n",
       "      <td>-2.170007</td>\n",
       "    </tr>\n",
       "    <tr>\n",
       "      <th>...</th>\n",
       "      <td>...</td>\n",
       "      <td>...</td>\n",
       "    </tr>\n",
       "    <tr>\n",
       "      <th>172</th>\n",
       "      <td>-3.372888</td>\n",
       "      <td>-2.185461</td>\n",
       "    </tr>\n",
       "    <tr>\n",
       "      <th>173</th>\n",
       "      <td>-2.602155</td>\n",
       "      <td>-1.739804</td>\n",
       "    </tr>\n",
       "    <tr>\n",
       "      <th>174</th>\n",
       "      <td>-2.692146</td>\n",
       "      <td>-2.739875</td>\n",
       "    </tr>\n",
       "    <tr>\n",
       "      <th>175</th>\n",
       "      <td>-2.398394</td>\n",
       "      <td>-2.279929</td>\n",
       "    </tr>\n",
       "    <tr>\n",
       "      <th>176</th>\n",
       "      <td>-3.215852</td>\n",
       "      <td>-2.740593</td>\n",
       "    </tr>\n",
       "  </tbody>\n",
       "</table>\n",
       "<p>177 rows × 2 columns</p>\n",
       "</div>"
      ],
      "text/plain": [
       "          PC1       PC2\n",
       "0    2.230243  0.302313\n",
       "1    2.531922 -1.062257\n",
       "2    3.754677 -2.805309\n",
       "3    1.020131 -0.888380\n",
       "4    3.049199 -2.170007\n",
       "..        ...       ...\n",
       "172 -3.372888 -2.185461\n",
       "173 -2.602155 -1.739804\n",
       "174 -2.692146 -2.739875\n",
       "175 -2.398394 -2.279929\n",
       "176 -3.215852 -2.740593\n",
       "\n",
       "[177 rows x 2 columns]"
      ]
     },
     "execution_count": 18,
     "metadata": {},
     "output_type": "execute_result"
    }
   ],
   "source": [
    "pca_data"
   ]
  },
  {
   "cell_type": "code",
   "execution_count": 19,
   "id": "cd99afab",
   "metadata": {},
   "outputs": [],
   "source": [
    "pca_data = np.vstack((pca_data.T,df.iloc[:,0]))"
   ]
  },
  {
   "cell_type": "code",
   "execution_count": 20,
   "id": "8614cf1b",
   "metadata": {},
   "outputs": [],
   "source": [
    "pca_data = pca_data.T"
   ]
  },
  {
   "cell_type": "code",
   "execution_count": 21,
   "id": "d5892dc4",
   "metadata": {},
   "outputs": [
    {
     "data": {
      "text/plain": [
       "array([[ 2.23024297,  0.30231277,  1.        ],\n",
       "       [ 2.53192196, -1.06225676,  1.        ],\n",
       "       [ 3.75467731, -2.80530871,  1.        ],\n",
       "       [ 1.0201307 , -0.88838036,  1.        ],\n",
       "       [ 3.04919938, -2.1700067 ,  1.        ],\n",
       "       [ 2.45822831, -1.20706466,  1.        ],\n",
       "       [ 2.06160512, -1.64048497,  1.        ],\n",
       "       [ 2.51844454, -0.96083709,  1.        ],\n",
       "       [ 2.76797089, -0.82452149,  1.        ],\n",
       "       [ 3.48916135, -1.35519047,  1.        ],\n",
       "       [ 1.76638133, -0.6467145 ,  1.        ],\n",
       "       [ 2.12870494, -0.71042819,  1.        ],\n",
       "       [ 3.46649467, -1.1821256 ,  1.        ],\n",
       "       [ 4.31363172, -2.15473286,  1.        ],\n",
       "       [ 2.30845048, -1.70092988,  1.        ],\n",
       "       [ 2.16745547, -2.36700104,  1.        ],\n",
       "       [ 1.90220844, -1.66778153,  1.        ],\n",
       "       [ 3.54012997, -2.57341412,  1.        ],\n",
       "       [ 2.09274066, -1.08886084,  1.        ],\n",
       "       [ 3.1319081 , -0.82827339,  1.        ],\n",
       "       [ 1.10804505, -0.25248228,  1.        ],\n",
       "       [ 2.55760384,  0.06025432,  1.        ],\n",
       "       [ 1.67255267,  0.49502043,  1.        ],\n",
       "       [ 1.78792909,  0.29470798,  1.        ],\n",
       "       [ 1.00222687, -0.95757325,  1.        ],\n",
       "       [ 1.79246479, -0.71100388,  1.        ],\n",
       "       [ 1.25516785,  0.0619388 ,  1.        ],\n",
       "       [ 2.20313645, -0.72205026,  1.        ],\n",
       "       [ 2.27398683, -0.22242744,  1.        ],\n",
       "       [ 2.51223477, -1.28306798,  1.        ],\n",
       "       [ 2.68519586, -1.51523154,  1.        ],\n",
       "       [ 1.64501308, -0.08373303,  1.        ],\n",
       "       [ 1.90224111, -1.66952014,  1.        ],\n",
       "       [ 1.42130848, -0.72585563,  1.        ],\n",
       "       [ 1.92515877, -0.20344976,  1.        ],\n",
       "       [ 1.39514757, -0.68329424,  1.        ],\n",
       "       [ 1.14008674, -0.14047148,  1.        ],\n",
       "       [ 1.52596172,  0.73736633,  1.        ],\n",
       "       [ 2.52872196, -1.83401991,  1.        ],\n",
       "       [ 2.59899338, -0.81251962,  1.        ],\n",
       "       [ 0.69107085, -0.1853551 ,  1.        ],\n",
       "       [ 3.08322733, -1.19398518,  1.        ],\n",
       "       [ 0.48029669, -0.33983812,  1.        ],\n",
       "       [ 2.12234776,  0.04279977,  1.        ],\n",
       "       [ 1.14107039, -1.79689671,  1.        ],\n",
       "       [ 2.73816159, -1.2290287 ,  1.        ],\n",
       "       [ 2.83615695, -0.68448616,  1.        ],\n",
       "       [ 2.01759308, -1.28112175,  1.        ],\n",
       "       [ 2.7116427 , -1.79115187,  1.        ],\n",
       "       [ 3.23402865, -0.20902061,  1.        ],\n",
       "       [ 2.87439604, -0.78417224,  1.        ],\n",
       "       [ 3.51199543, -1.65987191,  1.        ],\n",
       "       [ 2.2259525 , -1.91167864,  1.        ],\n",
       "       [ 2.15305567, -1.05004048,  1.        ],\n",
       "       [ 2.47635157, -1.36603153,  1.        ],\n",
       "       [ 2.74480414, -1.47559033,  1.        ],\n",
       "       [ 2.18479692, -1.24599008,  1.        ],\n",
       "       [ 3.14461992, -1.7772537 ,  1.        ],\n",
       "       [-0.89347977,  3.06190801,  2.        ],\n",
       "       [-1.51961494,  1.37834851,  2.        ],\n",
       "       [-1.81823296,  0.83347809,  2.        ],\n",
       "       [ 0.05512564,  1.24258734,  2.        ],\n",
       "       [ 2.09192254,  1.8920975 ,  2.        ],\n",
       "       [-0.5789596 ,  1.89971796,  2.        ],\n",
       "       [ 0.92558177,  0.74330347,  2.        ],\n",
       "       [ 2.28800128,  1.85323441,  2.        ],\n",
       "       [ 0.22876166,  2.42207045,  2.        ],\n",
       "       [-0.80125027,  0.20847835,  2.        ],\n",
       "       [ 1.99108531,  1.36646227,  2.        ],\n",
       "       [-1.5523202 ,  0.88708407,  2.        ],\n",
       "       [ 1.69124851,  0.92630461,  2.        ],\n",
       "       [-0.69605139,  1.06037078,  2.        ],\n",
       "       [ 2.58036214, -0.30468081,  2.        ],\n",
       "       [ 1.86768348,  1.25844259,  2.        ],\n",
       "       [-0.83266108,  2.44091613,  2.        ],\n",
       "       [ 0.40359327,  2.13553617,  2.        ],\n",
       "       [-1.43101297,  1.39179129,  2.        ],\n",
       "       [ 1.27464161,  0.74250523,  2.        ],\n",
       "       [ 0.4101286 ,  1.01671225,  2.        ],\n",
       "       [ 0.81320276,  3.35748359,  2.        ],\n",
       "       [ 1.07017169,  1.43284919,  2.        ],\n",
       "       [-0.44937791,  2.37657097,  2.        ],\n",
       "       [-2.51731021,  0.10858652,  2.        ],\n",
       "       [ 0.86981672,  1.46629052,  2.        ],\n",
       "       [ 0.82262339,  2.00923064,  2.        ],\n",
       "       [-0.76802261,  2.22838017,  2.        ],\n",
       "       [-0.51110168,  2.37433124,  2.        ],\n",
       "       [-1.07453318,  1.81115967,  2.        ],\n",
       "       [-0.50399535,  2.65974553,  2.        ],\n",
       "       [-1.31124431,  2.12544177,  2.        ],\n",
       "       [-1.52773342,  1.86621523,  2.        ],\n",
       "       [-1.90072666,  1.57117428,  2.        ],\n",
       "       [ 0.79056143,  2.3025426 ,  2.        ],\n",
       "       [ 0.9989761 ,  2.2061751 ,  2.        ],\n",
       "       [ 2.54738234, -0.21440223,  2.        ],\n",
       "       [-0.53118357,  0.3630994 ,  2.        ],\n",
       "       [ 1.07397322,  2.54397551,  2.        ],\n",
       "       [ 2.29024085,  1.3974992 ,  2.        ],\n",
       "       [ 1.45409066,  2.14331127,  2.        ],\n",
       "       [ 0.8375519 ,  2.35613634,  2.        ],\n",
       "       [-0.51305733,  2.28920301,  2.        ],\n",
       "       [-0.12723061,  1.16668222,  2.        ],\n",
       "       [-0.61536912,  2.67697372,  2.        ],\n",
       "       [ 0.43497615,  2.09116681,  2.        ],\n",
       "       [-1.73444494,  1.73966541,  2.        ],\n",
       "       [-0.32427811,  2.17248326,  2.        ],\n",
       "       [-1.5888709 ,  1.36667163,  2.        ],\n",
       "       [ 0.123098  ,  2.3022219 ,  2.        ],\n",
       "       [ 1.61791755,  1.44567547,  2.        ],\n",
       "       [ 1.45726543,  1.40073651,  2.        ],\n",
       "       [-0.23890288,  1.92526785,  2.        ],\n",
       "       [-1.27665922,  0.77270161,  2.        ],\n",
       "       [-0.41499111,  2.26568938,  2.        ],\n",
       "       [-0.45065081,  1.94294307,  2.        ],\n",
       "       [ 0.54139419,  3.8568035 ,  2.        ],\n",
       "       [-0.20498599,  2.82193091,  2.        ],\n",
       "       [-0.0729984 ,  1.92110439,  2.        ],\n",
       "       [-2.40448838,  1.27712345,  2.        ],\n",
       "       [-0.50815969,  2.22569823,  2.        ],\n",
       "       [ 0.77987484,  1.4038824 ,  2.        ],\n",
       "       [ 1.36652399, -0.26145845,  2.        ],\n",
       "       [-1.14506231,  0.67653606,  2.        ],\n",
       "       [-0.42827684,  0.62332699,  2.        ],\n",
       "       [ 1.0247241 ,  1.44438967,  2.        ],\n",
       "       [-0.05143996,  2.1102582 ,  2.        ],\n",
       "       [ 0.07538255,  1.2642793 ,  2.        ],\n",
       "       [-1.55993845,  1.22073965,  2.        ],\n",
       "       [-0.43841321,  1.93817633,  2.        ],\n",
       "       [-1.755462  ,  1.16780357,  2.        ],\n",
       "       [-1.32428406, -0.17722827,  3.        ],\n",
       "       [-2.37655439, -0.36310732,  3.        ],\n",
       "       [-2.92579835, -0.24637916,  3.        ],\n",
       "       [-2.13716639, -0.36273737,  3.        ],\n",
       "       [-2.35121439,  0.47475962,  3.        ],\n",
       "       [-3.0531239 , -0.32872653,  3.        ],\n",
       "       [-3.89923965, -0.12253823,  3.        ],\n",
       "       [-3.92146674, -0.62320542,  3.        ],\n",
       "       [-3.08235716, -0.32525708,  3.        ],\n",
       "       [-2.35895565, -0.27588368,  3.        ],\n",
       "       [-2.764957  , -0.26101408,  3.        ],\n",
       "       [-2.27351064, -0.35344021,  3.        ],\n",
       "       [-2.97458054, -0.46745567,  3.        ],\n",
       "       [-2.36193359, -0.4669193 ,  3.        ],\n",
       "       [-2.20681631, -1.1406727 ,  3.        ],\n",
       "       [-2.61743092, -0.54761436,  3.        ],\n",
       "       [-4.27191366, -0.61416807,  3.        ],\n",
       "       [-3.57327927, -1.23545086,  3.        ],\n",
       "       [-2.80423095, -1.54696015,  3.        ],\n",
       "       [-2.90607992, -2.01893515,  3.        ],\n",
       "       [-2.33247599, -2.34461958,  3.        ],\n",
       "       [-2.55578663, -2.02320281,  3.        ],\n",
       "       [-1.81375585, -1.52202786,  3.        ],\n",
       "       [-2.76500454, -2.11212493,  3.        ],\n",
       "       [-2.73013413, -0.38901085,  3.        ],\n",
       "       [-3.60242822, -1.7688379 ,  3.        ],\n",
       "       [-2.89083274, -1.8980322 ,  3.        ],\n",
       "       [-3.38308624, -1.28151003,  3.        ],\n",
       "       [-1.06059682, -3.50585592,  3.        ],\n",
       "       [-1.61171861, -2.39054338,  3.        ],\n",
       "       [-3.12911042, -0.70836721,  3.        ],\n",
       "       [-2.23928358, -1.16530165,  3.        ],\n",
       "       [-2.83779448, -0.53184429,  3.        ],\n",
       "       [-2.59226184, -0.67975307,  3.        ],\n",
       "       [-2.94879996, -1.53195097,  3.        ],\n",
       "       [-3.52184398, -0.85292527,  3.        ],\n",
       "       [-2.41581922, -2.57534772,  3.        ],\n",
       "       [-2.92351427, -1.24652035,  3.        ],\n",
       "       [-2.18547501, -2.06264016,  3.        ],\n",
       "       [-2.38683089, -2.56923982,  3.        ],\n",
       "       [-3.19522322,  0.28055761,  3.        ],\n",
       "       [-3.67033271, -0.81093563,  3.        ],\n",
       "       [-2.47138831, -2.17438438,  3.        ],\n",
       "       [-3.37288802, -2.18546141,  3.        ],\n",
       "       [-2.60215457, -1.73980444,  3.        ],\n",
       "       [-2.69214577, -2.73987492,  3.        ],\n",
       "       [-2.39839363, -2.27992875,  3.        ],\n",
       "       [-3.21585159, -2.74059303,  3.        ]])"
      ]
     },
     "execution_count": 21,
     "metadata": {},
     "output_type": "execute_result"
    }
   ],
   "source": [
    "pca_data"
   ]
  },
  {
   "cell_type": "code",
   "execution_count": 22,
   "id": "1f9c775f",
   "metadata": {},
   "outputs": [],
   "source": [
    "pca_df = pd.DataFrame(pca_data, columns=['PC1',\"PC2\",'output'])"
   ]
  },
  {
   "cell_type": "code",
   "execution_count": 23,
   "id": "b1753960",
   "metadata": {},
   "outputs": [
    {
     "data": {
      "text/html": [
       "<div>\n",
       "<style scoped>\n",
       "    .dataframe tbody tr th:only-of-type {\n",
       "        vertical-align: middle;\n",
       "    }\n",
       "\n",
       "    .dataframe tbody tr th {\n",
       "        vertical-align: top;\n",
       "    }\n",
       "\n",
       "    .dataframe thead th {\n",
       "        text-align: right;\n",
       "    }\n",
       "</style>\n",
       "<table border=\"1\" class=\"dataframe\">\n",
       "  <thead>\n",
       "    <tr style=\"text-align: right;\">\n",
       "      <th></th>\n",
       "      <th>PC1</th>\n",
       "      <th>PC2</th>\n",
       "      <th>output</th>\n",
       "    </tr>\n",
       "  </thead>\n",
       "  <tbody>\n",
       "    <tr>\n",
       "      <th>0</th>\n",
       "      <td>2.230243</td>\n",
       "      <td>0.302313</td>\n",
       "      <td>1.0</td>\n",
       "    </tr>\n",
       "    <tr>\n",
       "      <th>1</th>\n",
       "      <td>2.531922</td>\n",
       "      <td>-1.062257</td>\n",
       "      <td>1.0</td>\n",
       "    </tr>\n",
       "    <tr>\n",
       "      <th>2</th>\n",
       "      <td>3.754677</td>\n",
       "      <td>-2.805309</td>\n",
       "      <td>1.0</td>\n",
       "    </tr>\n",
       "    <tr>\n",
       "      <th>3</th>\n",
       "      <td>1.020131</td>\n",
       "      <td>-0.888380</td>\n",
       "      <td>1.0</td>\n",
       "    </tr>\n",
       "    <tr>\n",
       "      <th>4</th>\n",
       "      <td>3.049199</td>\n",
       "      <td>-2.170007</td>\n",
       "      <td>1.0</td>\n",
       "    </tr>\n",
       "    <tr>\n",
       "      <th>...</th>\n",
       "      <td>...</td>\n",
       "      <td>...</td>\n",
       "      <td>...</td>\n",
       "    </tr>\n",
       "    <tr>\n",
       "      <th>172</th>\n",
       "      <td>-3.372888</td>\n",
       "      <td>-2.185461</td>\n",
       "      <td>3.0</td>\n",
       "    </tr>\n",
       "    <tr>\n",
       "      <th>173</th>\n",
       "      <td>-2.602155</td>\n",
       "      <td>-1.739804</td>\n",
       "      <td>3.0</td>\n",
       "    </tr>\n",
       "    <tr>\n",
       "      <th>174</th>\n",
       "      <td>-2.692146</td>\n",
       "      <td>-2.739875</td>\n",
       "      <td>3.0</td>\n",
       "    </tr>\n",
       "    <tr>\n",
       "      <th>175</th>\n",
       "      <td>-2.398394</td>\n",
       "      <td>-2.279929</td>\n",
       "      <td>3.0</td>\n",
       "    </tr>\n",
       "    <tr>\n",
       "      <th>176</th>\n",
       "      <td>-3.215852</td>\n",
       "      <td>-2.740593</td>\n",
       "      <td>3.0</td>\n",
       "    </tr>\n",
       "  </tbody>\n",
       "</table>\n",
       "<p>177 rows × 3 columns</p>\n",
       "</div>"
      ],
      "text/plain": [
       "          PC1       PC2  output\n",
       "0    2.230243  0.302313     1.0\n",
       "1    2.531922 -1.062257     1.0\n",
       "2    3.754677 -2.805309     1.0\n",
       "3    1.020131 -0.888380     1.0\n",
       "4    3.049199 -2.170007     1.0\n",
       "..        ...       ...     ...\n",
       "172 -3.372888 -2.185461     3.0\n",
       "173 -2.602155 -1.739804     3.0\n",
       "174 -2.692146 -2.739875     3.0\n",
       "175 -2.398394 -2.279929     3.0\n",
       "176 -3.215852 -2.740593     3.0\n",
       "\n",
       "[177 rows x 3 columns]"
      ]
     },
     "execution_count": 23,
     "metadata": {},
     "output_type": "execute_result"
    }
   ],
   "source": [
    "pca_df"
   ]
  },
  {
   "cell_type": "markdown",
   "id": "6d0cea39",
   "metadata": {},
   "source": [
    "PC1 and PC2 are eigen vectors(V1 and V2). Hence, if we want to see 'transformed xi', it is [xi dot PC1, xi dot PC2]"
   ]
  },
  {
   "cell_type": "code",
   "execution_count": 24,
   "id": "9139a965",
   "metadata": {},
   "outputs": [
    {
     "data": {
      "image/png": "[encoded data removed]",
      "text/plain": [
       "<Figure size 432x288 with 1 Axes>"
      ]
     },
     "metadata": {
      "needs_background": "light"
     },
     "output_type": "display_data"
    }
   ],
   "source": [
    "sns.scatterplot(x='PC1',y='PC2', data = pca_df, hue='output')\n",
    "plt.show()"
   ]
  },
  {
   "cell_type": "code",
   "execution_count": null,
   "id": "250951af",
   "metadata": {},
   "outputs": [],
   "source": []
  }
 ],
 "metadata": {
  "kernelspec": {
   "display_name": "Python 3",
   "language": "python",
   "name": "python3"
  },
  "language_info": {
   "codemirror_mode": {
    "name": "ipython",
    "version": 3
   },
   "file_extension": ".py",
   "mimetype": "text/x-python",
   "name": "python",
   "nbconvert_exporter": "python",
   "pygments_lexer": "ipython3",
   "version": "3.8.8"
  }
 },
 "nbformat": 4,
 "nbformat_minor": 5
}
